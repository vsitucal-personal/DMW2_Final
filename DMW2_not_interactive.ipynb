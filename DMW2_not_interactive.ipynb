{
 "cells": [
  {
   "cell_type": "code",
   "execution_count": 1,
   "id": "0ed6a785-a725-4f07-90e9-22e129c21270",
   "metadata": {
    "execution": {
     "iopub.execute_input": "2024-03-07T15:11:57.792642Z",
     "iopub.status.busy": "2024-03-07T15:11:57.791642Z",
     "iopub.status.idle": "2024-03-07T15:11:58.772037Z",
     "shell.execute_reply": "2024-03-07T15:11:58.771035Z",
     "shell.execute_reply.started": "2024-03-07T15:11:57.792642Z"
    }
   },
   "outputs": [],
   "source": [
    "import re\n",
    "import ipywidgets as widgets\n",
    "import pandas as pd\n",
    "import warnings\n",
    "import random\n",
    "from collections import OrderedDict\n",
    "from mlxtend.preprocessing import TransactionEncoder\n",
    "from mlxtend.frequent_patterns import apriori, fpmax, fpgrowth, association_rules\n",
    "from IPython.display import display, Markdown\n",
    "from utility import check_job_title, clean_skills, init_jobs\n",
    "from utility import METHO, CASE, VALID"
   ]
  },
  {
   "cell_type": "code",
   "execution_count": 2,
   "id": "25a9e5f6-a7ec-44d8-b0f4-511500fd01db",
   "metadata": {
    "execution": {
     "iopub.execute_input": "2024-03-07T15:11:58.773036Z",
     "iopub.status.busy": "2024-03-07T15:11:58.773036Z",
     "iopub.status.idle": "2024-03-07T15:11:58.786556Z",
     "shell.execute_reply": "2024-03-07T15:11:58.786556Z",
     "shell.execute_reply.started": "2024-03-07T15:11:58.773036Z"
    }
   },
   "outputs": [],
   "source": [
    "warnings.filterwarnings(\"ignore\")"
   ]
  },
  {
   "cell_type": "markdown",
   "id": "f4749e73-c298-4b97-8892-4363ec6e60d1",
   "metadata": {},
   "source": [
    "# Introduction"
   ]
  },
  {
   "cell_type": "markdown",
   "id": "72200eda-9bae-41a5-9292-dd80108d736a",
   "metadata": {
    "execution": {
     "iopub.execute_input": "2024-03-07T12:53:14.976450Z",
     "iopub.status.busy": "2024-03-07T12:53:14.976450Z",
     "iopub.status.idle": "2024-03-07T12:53:14.984479Z",
     "shell.execute_reply": "2024-03-07T12:53:14.983483Z",
     "shell.execute_reply.started": "2024-03-07T12:53:14.976450Z"
    }
   },
   "source": [
    "job mismatch dilemma intro"
   ]
  },
  {
   "cell_type": "markdown",
   "id": "f6ade370-6324-4fc8-96f4-3c2530b24414",
   "metadata": {},
   "source": [
    "# Statement of the Problem"
   ]
  },
  {
   "cell_type": "markdown",
   "id": "d6230202-2d64-4c46-8703-accce0ac5e4c",
   "metadata": {},
   "source": [
    "The job skill mismatch dilemma presents a significant challenge, causing inefficiencies in hiring processes. To mitigate this, a streamlined solution is needed to recommend skills for enhancing applicant hirability and enabling employers to efficiently select and rank candidates with the help of frequent itemset mining (fim) association rules."
   ]
  },
  {
   "cell_type": "markdown",
   "id": "0381deb5-5f0b-4dd6-99fe-cad8f55f64f0",
   "metadata": {},
   "source": [
    "# METHODOLOGY"
   ]
  },
  {
   "cell_type": "markdown",
   "id": "e7feb385-f648-42db-94df-375e95fe6987",
   "metadata": {},
   "source": [
    "## Merged Dataframe"
   ]
  },
  {
   "cell_type": "markdown",
   "id": "b244428f-2af6-45dd-9f5a-0bddc8b92898",
   "metadata": {},
   "source": [
    "Prepared input CSVs to a merged dataframe for processing"
   ]
  },
  {
   "cell_type": "code",
   "execution_count": 3,
   "id": "87549b6f-2af0-4610-91d5-a28da7f28447",
   "metadata": {
    "execution": {
     "iopub.execute_input": "2024-03-07T15:11:58.788595Z",
     "iopub.status.busy": "2024-03-07T15:11:58.788065Z",
     "iopub.status.idle": "2024-03-07T15:11:59.536040Z",
     "shell.execute_reply": "2024-03-07T15:11:59.535124Z",
     "shell.execute_reply.started": "2024-03-07T15:11:58.788595Z"
    }
   },
   "outputs": [
    {
     "data": {
      "text/plain": [
       "12217"
      ]
     },
     "metadata": {},
     "output_type": "display_data"
    }
   ],
   "source": [
    "merged_df = init_jobs()"
   ]
  },
  {
   "cell_type": "markdown",
   "id": "f37ff3b4-ebee-4766-acca-c2f65e30cc76",
   "metadata": {},
   "source": [
    "## Jobs binning"
   ]
  },
  {
   "cell_type": "markdown",
   "id": "0477837a-5002-4b1f-b05f-d1e1886cae4a",
   "metadata": {},
   "source": [
    "Binning jobs for selection later when cases are created where one person wants to transition into one of the binned roles."
   ]
  },
  {
   "cell_type": "code",
   "execution_count": 12,
   "id": "9f24b056-8166-4b2b-aec6-dc5c7fef27db",
   "metadata": {
    "execution": {
     "iopub.execute_input": "2024-03-07T15:29:00.467402Z",
     "iopub.status.busy": "2024-03-07T15:29:00.466184Z",
     "iopub.status.idle": "2024-03-07T15:29:00.931497Z",
     "shell.execute_reply": "2024-03-07T15:29:00.930490Z",
     "shell.execute_reply.started": "2024-03-07T15:29:00.467402Z"
    },
    "jupyter": {
     "source_hidden": true
    }
   },
   "outputs": [
    {
     "data": {
      "text/plain": [
       "job_title_new\n",
       "others                       2900\n",
       "data engineer                2607\n",
       "data analyst                 2315\n",
       "manager                      1251\n",
       "machine learning engineer     833\n",
       "data scientist                799\n",
       "data architect                565\n",
       "database administrator        355\n",
       "c-suite                       186\n",
       "software engineer             182\n",
       "tech/data lead                164\n",
       "business analyst               60\n",
       "Name: count, dtype: int64"
      ]
     },
     "execution_count": 12,
     "metadata": {},
     "output_type": "execute_result"
    }
   ],
   "source": [
    "merged_df['job_title_new'] = merged_df['job_title'].apply(check_job_title)\n",
    "merged_df['job_title_new'].value_counts()"
   ]
  },
  {
   "cell_type": "markdown",
   "id": "7e1a869c-ab95-4d43-93e1-356851798742",
   "metadata": {},
   "source": [
    "create new column `job_skills_` list of skills for the job"
   ]
  },
  {
   "cell_type": "code",
   "execution_count": 5,
   "id": "f7e94734-bff1-40f3-ad1c-f2a3529f4f2f",
   "metadata": {
    "execution": {
     "iopub.execute_input": "2024-03-07T15:11:59.974987Z",
     "iopub.status.busy": "2024-03-07T15:11:59.974987Z",
     "iopub.status.idle": "2024-03-07T15:12:00.082928Z",
     "shell.execute_reply": "2024-03-07T15:12:00.081922Z",
     "shell.execute_reply.started": "2024-03-07T15:11:59.974987Z"
    }
   },
   "outputs": [],
   "source": [
    "merged_df['job_skills_'] = merged_df['job_skills'].apply(clean_skills)"
   ]
  },
  {
   "cell_type": "markdown",
   "id": "2f71e81c-0580-4391-b3df-3969496f2e53",
   "metadata": {
    "execution": {
     "iopub.execute_input": "2024-03-07T08:44:00.015776Z",
     "iopub.status.busy": "2024-03-07T08:44:00.014766Z",
     "iopub.status.idle": "2024-03-07T08:44:00.034814Z",
     "shell.execute_reply": "2024-03-07T08:44:00.033813Z",
     "shell.execute_reply.started": "2024-03-07T08:44:00.015776Z"
    }
   },
   "source": [
    "Bin job titles into these job titles:\n",
    "- data engineer \n",
    "- data scientist \n",
    "- data analyst \n",
    "- business analyst \n",
    "- database engineer \n",
    "- database administrator \n",
    "- data architect \n",
    "- machine learning/mlops engineer \n",
    "- software engineer \n",
    "- tech lead "
   ]
  },
  {
   "cell_type": "markdown",
   "id": "fd36cb36-d5ed-453b-bf96-f668f0258bba",
   "metadata": {},
   "source": [
    "## Base Transaction Database"
   ]
  },
  {
   "cell_type": "markdown",
   "id": "c32fd5fb-d01c-4956-a3ce-80e2cdae1aa9",
   "metadata": {},
   "source": [
    "This will be the base database for filtering later when we filter by job title."
   ]
  },
  {
   "cell_type": "code",
   "execution_count": 6,
   "id": "48474ff2-ec07-40fc-9fa4-14c571a6a4ac",
   "metadata": {
    "execution": {
     "iopub.execute_input": "2024-03-07T15:12:00.084924Z",
     "iopub.status.busy": "2024-03-07T15:12:00.084924Z",
     "iopub.status.idle": "2024-03-07T15:12:00.113959Z",
     "shell.execute_reply": "2024-03-07T15:12:00.112957Z",
     "shell.execute_reply.started": "2024-03-07T15:12:00.084924Z"
    }
   },
   "outputs": [
    {
     "data": {
      "text/html": [
       "<div>\n",
       "<style scoped>\n",
       "    .dataframe tbody tr th:only-of-type {\n",
       "        vertical-align: middle;\n",
       "    }\n",
       "\n",
       "    .dataframe tbody tr th {\n",
       "        vertical-align: top;\n",
       "    }\n",
       "\n",
       "    .dataframe thead th {\n",
       "        text-align: right;\n",
       "    }\n",
       "</style>\n",
       "<table border=\"1\" class=\"dataframe\">\n",
       "  <thead>\n",
       "    <tr style=\"text-align: right;\">\n",
       "      <th></th>\n",
       "      <th>job_link</th>\n",
       "      <th>job_title_new</th>\n",
       "      <th>job_skills_</th>\n",
       "    </tr>\n",
       "  </thead>\n",
       "  <tbody>\n",
       "    <tr>\n",
       "      <th>0</th>\n",
       "      <td>https://www.linkedin.com/jobs/view/senior-mach...</td>\n",
       "      <td>machine learning engineer</td>\n",
       "      <td>[machine learning, programming, python, scala,...</td>\n",
       "    </tr>\n",
       "    <tr>\n",
       "      <th>1</th>\n",
       "      <td>https://www.linkedin.com/jobs/view/principal-s...</td>\n",
       "      <td>software engineer</td>\n",
       "      <td>[c++, python, pytorch, tensorflow, mxnet, cuda...</td>\n",
       "    </tr>\n",
       "    <tr>\n",
       "      <th>2</th>\n",
       "      <td>https://www.linkedin.com/jobs/view/senior-etl-...</td>\n",
       "      <td>data engineer</td>\n",
       "      <td>[etl, data integration, data transformation, d...</td>\n",
       "    </tr>\n",
       "    <tr>\n",
       "      <th>3</th>\n",
       "      <td>https://www.linkedin.com/jobs/view/senior-data...</td>\n",
       "      <td>data architect</td>\n",
       "      <td>[data lakes, data bricks, azure data factory p...</td>\n",
       "    </tr>\n",
       "    <tr>\n",
       "      <th>4</th>\n",
       "      <td>https://www.linkedin.com/jobs/view/lead-data-e...</td>\n",
       "      <td>data engineer</td>\n",
       "      <td>[java, scala, python, rdbms, nosql, redshift, ...</td>\n",
       "    </tr>\n",
       "    <tr>\n",
       "      <th>5</th>\n",
       "      <td>https://www.linkedin.com/jobs/view/senior-data...</td>\n",
       "      <td>data engineer</td>\n",
       "      <td>[data warehouse (dw), extract/transform/load (...</td>\n",
       "    </tr>\n",
       "  </tbody>\n",
       "</table>\n",
       "</div>"
      ],
      "text/plain": [
       "                                            job_link  \\\n",
       "0  https://www.linkedin.com/jobs/view/senior-mach...   \n",
       "1  https://www.linkedin.com/jobs/view/principal-s...   \n",
       "2  https://www.linkedin.com/jobs/view/senior-etl-...   \n",
       "3  https://www.linkedin.com/jobs/view/senior-data...   \n",
       "4  https://www.linkedin.com/jobs/view/lead-data-e...   \n",
       "5  https://www.linkedin.com/jobs/view/senior-data...   \n",
       "\n",
       "               job_title_new  \\\n",
       "0  machine learning engineer   \n",
       "1          software engineer   \n",
       "2              data engineer   \n",
       "3             data architect   \n",
       "4              data engineer   \n",
       "5              data engineer   \n",
       "\n",
       "                                         job_skills_  \n",
       "0  [machine learning, programming, python, scala,...  \n",
       "1  [c++, python, pytorch, tensorflow, mxnet, cuda...  \n",
       "2  [etl, data integration, data transformation, d...  \n",
       "3  [data lakes, data bricks, azure data factory p...  \n",
       "4  [java, scala, python, rdbms, nosql, redshift, ...  \n",
       "5  [data warehouse (dw), extract/transform/load (...  "
      ]
     },
     "execution_count": 6,
     "metadata": {},
     "output_type": "execute_result"
    }
   ],
   "source": [
    "merged_df[['job_link', 'job_title_new', 'job_skills_']].head(6)"
   ]
  },
  {
   "cell_type": "markdown",
   "id": "50787362-33a6-4383-9a5f-929a7b137e58",
   "metadata": {},
   "source": [
    "## Using FIM to recommend skills to add to a person"
   ]
  },
  {
   "cell_type": "markdown",
   "id": "9bed6849-0d21-47ec-adbd-42196f1dae0e",
   "metadata": {},
   "source": [
    "In this project we'll be using FIM to recommend skills to a person given a base skillset. To recommend we will first create the frequent itemset using `fpgrowth` in `mlexted` library using `mlextend.fpgrowth` function and then getting associated association rules using `mlexted.association_rules` function. From the association rules, we will filter the antecedents based on the input base skills, order the rules by list and get top consequents that it unique and not already in the input base skills. We will then define a validation process below."
   ]
  },
  {
   "cell_type": "markdown",
   "id": "d08fab7a-ed14-48c7-a15d-b7065fc7f73e",
   "metadata": {},
   "source": [
    "$$\\text{Probability to get job} = \\frac{\\text{number of skills matched}}{\\text{skills required by job}}$$\n",
    "\n",
    "$$\\text{Hirability} = \\text{Probability of getting any jobs in the current DB} = \\frac{\\sum_{i=1}^{n}\\text{Probability to get job}_i}{\\text{total transactions in DB (n)}}$$\n",
    "We'll quote the above metric as `Hirability` based on what skills you have. `Hirability` will be then compared for:\n",
    "- Base Case (base skills only)\n",
    "- Stochastic Case (add n randomly sourced skills)\n",
    "- FIM Case (add n skills with most lift in the association rules)\n",
    "\n",
    "We will then check with the sample cases below the performance of all 3 based on their computed `Hirability`."
   ]
  },
  {
   "cell_type": "code",
   "execution_count": 7,
   "id": "6d7c48ad-1609-494c-8e87-4054fa8c4c02",
   "metadata": {
    "execution": {
     "iopub.execute_input": "2024-03-07T15:12:00.115475Z",
     "iopub.status.busy": "2024-03-07T15:12:00.114469Z",
     "iopub.status.idle": "2024-03-07T15:12:00.130940Z",
     "shell.execute_reply": "2024-03-07T15:12:00.128938Z",
     "shell.execute_reply.started": "2024-03-07T15:12:00.115475Z"
    },
    "jupyter": {
     "source_hidden": true
    }
   },
   "outputs": [],
   "source": [
    "def skill_fim(merged_df, job_tit, support):\n",
    "    print(f\"Wanting to transition to {job_tit}...\")\n",
    "    db = merged_df[merged_df['job_title_new'] == job_tit]\n",
    "    dataset = db['job_skills_'].to_list()\n",
    "    print(f\"Size of DB: {len(dataset)}\")\n",
    "    te = TransactionEncoder()\n",
    "    te_ary = te.fit(dataset).transform(dataset)\n",
    "    df = pd.DataFrame(te_ary, columns=te.columns_)\n",
    "    frequent_itemsets = fpgrowth(df, min_support=support, use_colnames=True)\n",
    "    \n",
    "    rules = association_rules(frequent_itemsets, metric=\"lift\")\n",
    "    rules = rules[rules['antecedents'].isin(frequent_itemsets['itemsets'].to_list())]\n",
    "    rules['a_cnt'] = rules['antecedents'].apply(len)\n",
    "    rules['c_cnt'] = rules['consequents'].apply(len)\n",
    "    rules = rules.sort_values(by=['c_cnt', 'lift', 'support'], ascending=False)\n",
    "    return rules, frequent_itemsets, db"
   ]
  },
  {
   "cell_type": "code",
   "execution_count": 8,
   "id": "0bf819eb-69ea-43ff-bb24-b7914ae2769b",
   "metadata": {
    "execution": {
     "iopub.execute_input": "2024-03-07T15:12:00.130940Z",
     "iopub.status.busy": "2024-03-07T15:12:00.130940Z",
     "iopub.status.idle": "2024-03-07T15:12:00.146559Z",
     "shell.execute_reply": "2024-03-07T15:12:00.145052Z",
     "shell.execute_reply.started": "2024-03-07T15:12:00.130940Z"
    },
    "jupyter": {
     "source_hidden": true
    }
   },
   "outputs": [],
   "source": [
    "def get_skills_probability(job_database, skills_to_match):\n",
    "    job_database['acceptance_prob'] = job_database['job_skills_'].apply(lambda x: len(skills_to_match.intersection(x))/len(x))\n",
    "    prob = round((job_database['acceptance_prob'].sum() / len(job_database)) * 100, 4)\n",
    "    return prob, job_database['acceptance_prob'].sum(), len(job_database)  "
   ]
  },
  {
   "cell_type": "code",
   "execution_count": 9,
   "id": "1ea14dda-308f-4cf6-aad8-2f899ef97b8a",
   "metadata": {
    "execution": {
     "iopub.execute_input": "2024-03-07T15:12:00.147568Z",
     "iopub.status.busy": "2024-03-07T15:12:00.147568Z",
     "iopub.status.idle": "2024-03-07T15:12:00.176883Z",
     "shell.execute_reply": "2024-03-07T15:12:00.175870Z",
     "shell.execute_reply.started": "2024-03-07T15:12:00.147568Z"
    }
   },
   "outputs": [],
   "source": [
    "def test_fim(merged_df, job_tit, supp, base_skills, no_skills_to_add):\n",
    "    c_rules, c_fi, c_db = skill_fim(merged_df, job_tit, supp)\n",
    "    display(Markdown(f\"{job_tit.upper()} frequent itemset:\"))\n",
    "    display(c_fi)\n",
    "    display(Markdown(\"Search frequent itemset if base skill in it:\"))\n",
    "    display(c_fi[c_fi['itemsets'] <= base_skills])\n",
    "    display(Markdown(METHO.format(base_skills, base_skills, no_skills_to_add, base_skills, no_skills_to_add)))\n",
    "    \n",
    "    display(Markdown(\"### Base Case\"))\n",
    "    prob, job_cnt, job_total = get_skills_probability(c_db, base_skills)\n",
    "    print(CASE.format(\n",
    "        base_skills, prob, round(job_cnt), job_total, job_total, job_tit, round(job_cnt)\n",
    "    ))\n",
    "    base = prob\n",
    "    \n",
    "    display(Markdown(\"### Stochastic Case\"))\n",
    "    display(Markdown(f\"Get hirability when {no_skills_to_add} random skills are added to base case, have 100 iterations and get the average\"))\n",
    "    prob_list = []\n",
    "    for i in range(100):\n",
    "        choice = set([item for sublist in c_db['job_skills_'].tolist() for item in sublist])\n",
    "        random_skill = random.sample(list(choice), no_skills_to_add)\n",
    "        skills_to_match = base_skills.union(random_skill)\n",
    "        prob_list.append(get_skills_probability(c_db, skills_to_match)[0])\n",
    "    average = sum(prob_list) / len(prob_list)\n",
    "    print(CASE.format(\n",
    "        f\"{base_skills} plus {no_skills_to_add} random skills, 100 iterations then get average\", \n",
    "        round(average, 4), round(round(average*len(c_db)/100)), len(c_db), len(c_db), job_tit, round(round(average*len(c_db)/100)))\n",
    "    )\n",
    "    stochastic = average\n",
    "     \n",
    "    display(Markdown(\"### FIM Case\"))\n",
    "    display(Markdown(f\"From the association rules above get top {no_skills_to_add} skills consequents with highest lift and add to skills\"))\n",
    "    most_lift = c_rules[\n",
    "        c_rules['antecedents'].apply(lambda rules: rules <= base_skills)\n",
    "    ].sort_values(by=['lift'], ascending=False)\n",
    "    display(most_lift)\n",
    "    consequents = [list(fs) for fs in most_lift['consequents'].to_list()]\n",
    "    fim_skills = []\n",
    "    consequents_ = [item for sublist in consequents for item in sublist]\n",
    "    [fim_skills.append(i) for i in consequents_  if i not in fim_skills]\n",
    "    fim_skills = [i for i in fim_skills if i not in base_skills][:no_skills_to_add]\n",
    "    fim_skills = base_skills.union(fim_skills)\n",
    "    prob, job_cnt, job_total = get_skills_probability(c_db, fim_skills)\n",
    "    print(CASE.format(\n",
    "        fim_skills, prob, round(job_cnt), job_total, job_total, job_tit, round(job_cnt)\n",
    "    ))\n",
    "    fim = prob\n",
    "    \n",
    "    display(Markdown(\"### Validation\"))\n",
    "    display(Markdown(VALID.format(round(base, 4), round(stochastic, 4), round(fim, 4))))"
   ]
  },
  {
   "cell_type": "markdown",
   "id": "2a836271-1091-4916-89fe-058347b262a8",
   "metadata": {
    "execution": {
     "iopub.execute_input": "2024-03-07T15:30:30.954312Z",
     "iopub.status.busy": "2024-03-07T15:30:30.953305Z",
     "iopub.status.idle": "2024-03-07T15:30:30.971344Z",
     "shell.execute_reply": "2024-03-07T15:30:30.970342Z",
     "shell.execute_reply.started": "2024-03-07T15:30:30.954312Z"
    }
   },
   "source": [
    "# Results and Discussion"
   ]
  },
  {
   "cell_type": "markdown",
   "id": "3657371a-2cf5-46bd-8f77-7eb63d97c7ed",
   "metadata": {
    "execution": {
     "iopub.execute_input": "2024-03-07T09:08:22.117965Z",
     "iopub.status.busy": "2024-03-07T09:08:22.117965Z",
     "iopub.status.idle": "2024-03-07T09:08:22.129098Z",
     "shell.execute_reply": "2024-03-07T09:08:22.128046Z",
     "shell.execute_reply.started": "2024-03-07T09:08:22.117965Z"
    }
   },
   "source": [
    "## Case 1 - Fresh Grad to Data Scientist\n",
    "with basic python and numpy knowledge, wants to be Data scientist"
   ]
  },
  {
   "cell_type": "code",
   "execution_count": 10,
   "id": "7a0e6463-bf4c-4451-b0a6-198d31240644",
   "metadata": {
    "execution": {
     "iopub.execute_input": "2024-03-07T15:12:00.177882Z",
     "iopub.status.busy": "2024-03-07T15:12:00.177882Z",
     "iopub.status.idle": "2024-03-07T15:12:00.921987Z",
     "shell.execute_reply": "2024-03-07T15:12:00.920988Z",
     "shell.execute_reply.started": "2024-03-07T15:12:00.177882Z"
    }
   },
   "outputs": [
    {
     "name": "stdout",
     "output_type": "stream",
     "text": [
      "Wanting to transition to data scientist...\n",
      "Size of DB: 799\n"
     ]
    },
    {
     "data": {
      "text/markdown": [
       "DATA SCIENTIST frequent itemset:"
      ],
      "text/plain": [
       "<IPython.core.display.Markdown object>"
      ]
     },
     "metadata": {},
     "output_type": "display_data"
    },
    {
     "data": {
      "text/html": [
       "<div>\n",
       "<style scoped>\n",
       "    .dataframe tbody tr th:only-of-type {\n",
       "        vertical-align: middle;\n",
       "    }\n",
       "\n",
       "    .dataframe tbody tr th {\n",
       "        vertical-align: top;\n",
       "    }\n",
       "\n",
       "    .dataframe thead th {\n",
       "        text-align: right;\n",
       "    }\n",
       "</style>\n",
       "<table border=\"1\" class=\"dataframe\">\n",
       "  <thead>\n",
       "    <tr style=\"text-align: right;\">\n",
       "      <th></th>\n",
       "      <th>support</th>\n",
       "      <th>itemsets</th>\n",
       "    </tr>\n",
       "  </thead>\n",
       "  <tbody>\n",
       "    <tr>\n",
       "      <th>0</th>\n",
       "      <td>0.829787</td>\n",
       "      <td>(python)</td>\n",
       "    </tr>\n",
       "    <tr>\n",
       "      <th>1</th>\n",
       "      <td>0.719650</td>\n",
       "      <td>(machine learning)</td>\n",
       "    </tr>\n",
       "    <tr>\n",
       "      <th>2</th>\n",
       "      <td>0.670839</td>\n",
       "      <td>(data science)</td>\n",
       "    </tr>\n",
       "    <tr>\n",
       "      <th>3</th>\n",
       "      <td>0.485607</td>\n",
       "      <td>(r)</td>\n",
       "    </tr>\n",
       "    <tr>\n",
       "      <th>4</th>\n",
       "      <td>0.384230</td>\n",
       "      <td>(data visualization)</td>\n",
       "    </tr>\n",
       "    <tr>\n",
       "      <th>...</th>\n",
       "      <td>...</td>\n",
       "      <td>...</td>\n",
       "    </tr>\n",
       "    <tr>\n",
       "      <th>1887</th>\n",
       "      <td>0.053817</td>\n",
       "      <td>(sql, nlp)</td>\n",
       "    </tr>\n",
       "    <tr>\n",
       "      <th>1888</th>\n",
       "      <td>0.065081</td>\n",
       "      <td>(python, nlp, machine learning)</td>\n",
       "    </tr>\n",
       "    <tr>\n",
       "      <th>1889</th>\n",
       "      <td>0.053817</td>\n",
       "      <td>(data science, python, nlp)</td>\n",
       "    </tr>\n",
       "    <tr>\n",
       "      <th>1890</th>\n",
       "      <td>0.052566</td>\n",
       "      <td>(data science, nlp, machine learning)</td>\n",
       "    </tr>\n",
       "    <tr>\n",
       "      <th>1891</th>\n",
       "      <td>0.052566</td>\n",
       "      <td>(python, nlp, sql)</td>\n",
       "    </tr>\n",
       "  </tbody>\n",
       "</table>\n",
       "<p>1892 rows × 2 columns</p>\n",
       "</div>"
      ],
      "text/plain": [
       "       support                               itemsets\n",
       "0     0.829787                               (python)\n",
       "1     0.719650                     (machine learning)\n",
       "2     0.670839                         (data science)\n",
       "3     0.485607                                    (r)\n",
       "4     0.384230                   (data visualization)\n",
       "...        ...                                    ...\n",
       "1887  0.053817                             (sql, nlp)\n",
       "1888  0.065081        (python, nlp, machine learning)\n",
       "1889  0.053817            (data science, python, nlp)\n",
       "1890  0.052566  (data science, nlp, machine learning)\n",
       "1891  0.052566                     (python, nlp, sql)\n",
       "\n",
       "[1892 rows x 2 columns]"
      ]
     },
     "metadata": {},
     "output_type": "display_data"
    },
    {
     "data": {
      "text/markdown": [
       "Search frequent itemset if base skill in it:"
      ],
      "text/plain": [
       "<IPython.core.display.Markdown object>"
      ]
     },
     "metadata": {},
     "output_type": "display_data"
    },
    {
     "data": {
      "text/html": [
       "<div>\n",
       "<style scoped>\n",
       "    .dataframe tbody tr th:only-of-type {\n",
       "        vertical-align: middle;\n",
       "    }\n",
       "\n",
       "    .dataframe tbody tr th {\n",
       "        vertical-align: top;\n",
       "    }\n",
       "\n",
       "    .dataframe thead th {\n",
       "        text-align: right;\n",
       "    }\n",
       "</style>\n",
       "<table border=\"1\" class=\"dataframe\">\n",
       "  <thead>\n",
       "    <tr style=\"text-align: right;\">\n",
       "      <th></th>\n",
       "      <th>support</th>\n",
       "      <th>itemsets</th>\n",
       "    </tr>\n",
       "  </thead>\n",
       "  <tbody>\n",
       "    <tr>\n",
       "      <th>0</th>\n",
       "      <td>0.829787</td>\n",
       "      <td>(python)</td>\n",
       "    </tr>\n",
       "    <tr>\n",
       "      <th>33</th>\n",
       "      <td>0.077597</td>\n",
       "      <td>(pandas)</td>\n",
       "    </tr>\n",
       "    <tr>\n",
       "      <th>70</th>\n",
       "      <td>0.073842</td>\n",
       "      <td>(numpy)</td>\n",
       "    </tr>\n",
       "    <tr>\n",
       "      <th>1273</th>\n",
       "      <td>0.071339</td>\n",
       "      <td>(pandas, python)</td>\n",
       "    </tr>\n",
       "    <tr>\n",
       "      <th>1872</th>\n",
       "      <td>0.071339</td>\n",
       "      <td>(numpy, python)</td>\n",
       "    </tr>\n",
       "    <tr>\n",
       "      <th>1873</th>\n",
       "      <td>0.063830</td>\n",
       "      <td>(pandas, numpy)</td>\n",
       "    </tr>\n",
       "    <tr>\n",
       "      <th>1877</th>\n",
       "      <td>0.061327</td>\n",
       "      <td>(pandas, numpy, python)</td>\n",
       "    </tr>\n",
       "  </tbody>\n",
       "</table>\n",
       "</div>"
      ],
      "text/plain": [
       "       support                 itemsets\n",
       "0     0.829787                 (python)\n",
       "33    0.077597                 (pandas)\n",
       "70    0.073842                  (numpy)\n",
       "1273  0.071339         (pandas, python)\n",
       "1872  0.071339          (numpy, python)\n",
       "1873  0.063830          (pandas, numpy)\n",
       "1877  0.061327  (pandas, numpy, python)"
      ]
     },
     "metadata": {},
     "output_type": "display_data"
    },
    {
     "data": {
      "text/markdown": [
       "Comparing Hirability for:\n",
       "- base `{'pandas', 'numpy', 'python'}`\n",
       "- `{'pandas', 'numpy', 'python'}` plus 6 random sampled skills without replacement\n",
       "- `{'pandas', 'numpy', 'python'}` plus 6 unique skills recommended by fim with highest lift\n"
      ],
      "text/plain": [
       "<IPython.core.display.Markdown object>"
      ]
     },
     "metadata": {},
     "output_type": "display_data"
    },
    {
     "data": {
      "text/markdown": [
       "### Base Case"
      ],
      "text/plain": [
       "<IPython.core.display.Markdown object>"
      ]
     },
     "metadata": {},
     "output_type": "display_data"
    },
    {
     "name": "stdout",
     "output_type": "stream",
     "text": [
      "Skillset: {'pandas', 'numpy', 'python'}\n",
      "Hirability: 4.006%\n",
      "Jobs available: 32/799\n",
      "Applying in all 799 data scientist jobs, you are likely to get into 32\n",
      "\n"
     ]
    },
    {
     "data": {
      "text/markdown": [
       "### Stochastic Case"
      ],
      "text/plain": [
       "<IPython.core.display.Markdown object>"
      ]
     },
     "metadata": {},
     "output_type": "display_data"
    },
    {
     "data": {
      "text/markdown": [
       "Get hirability when 6 random skills are added to base case, have 100 iterations and get the average"
      ],
      "text/plain": [
       "<IPython.core.display.Markdown object>"
      ]
     },
     "metadata": {},
     "output_type": "display_data"
    },
    {
     "name": "stdout",
     "output_type": "stream",
     "text": [
      "Skillset: {'pandas', 'numpy', 'python'} plus 6 random skills, 100 iterations then get average\n",
      "Hirability: 4.0813%\n",
      "Jobs available: 33/799\n",
      "Applying in all 799 data scientist jobs, you are likely to get into 33\n",
      "\n"
     ]
    },
    {
     "data": {
      "text/markdown": [
       "### FIM Case"
      ],
      "text/plain": [
       "<IPython.core.display.Markdown object>"
      ]
     },
     "metadata": {},
     "output_type": "display_data"
    },
    {
     "data": {
      "text/markdown": [
       "From the association rules above get top 6 skills consequents with highest lift and add to skills"
      ],
      "text/plain": [
       "<IPython.core.display.Markdown object>"
      ]
     },
     "metadata": {},
     "output_type": "display_data"
    },
    {
     "data": {
      "text/html": [
       "<div>\n",
       "<style scoped>\n",
       "    .dataframe tbody tr th:only-of-type {\n",
       "        vertical-align: middle;\n",
       "    }\n",
       "\n",
       "    .dataframe tbody tr th {\n",
       "        vertical-align: top;\n",
       "    }\n",
       "\n",
       "    .dataframe thead th {\n",
       "        text-align: right;\n",
       "    }\n",
       "</style>\n",
       "<table border=\"1\" class=\"dataframe\">\n",
       "  <thead>\n",
       "    <tr style=\"text-align: right;\">\n",
       "      <th></th>\n",
       "      <th>antecedents</th>\n",
       "      <th>consequents</th>\n",
       "      <th>antecedent support</th>\n",
       "      <th>consequent support</th>\n",
       "      <th>support</th>\n",
       "      <th>confidence</th>\n",
       "      <th>lift</th>\n",
       "      <th>leverage</th>\n",
       "      <th>conviction</th>\n",
       "      <th>zhangs_metric</th>\n",
       "      <th>a_cnt</th>\n",
       "      <th>c_cnt</th>\n",
       "    </tr>\n",
       "  </thead>\n",
       "  <tbody>\n",
       "    <tr>\n",
       "      <th>22824</th>\n",
       "      <td>(numpy)</td>\n",
       "      <td>(pandas, python)</td>\n",
       "      <td>0.073842</td>\n",
       "      <td>0.071339</td>\n",
       "      <td>0.061327</td>\n",
       "      <td>0.830508</td>\n",
       "      <td>11.641689</td>\n",
       "      <td>0.056059</td>\n",
       "      <td>5.479099</td>\n",
       "      <td>0.986983</td>\n",
       "      <td>1</td>\n",
       "      <td>2</td>\n",
       "    </tr>\n",
       "    <tr>\n",
       "      <th>22821</th>\n",
       "      <td>(pandas, python)</td>\n",
       "      <td>(numpy)</td>\n",
       "      <td>0.071339</td>\n",
       "      <td>0.073842</td>\n",
       "      <td>0.061327</td>\n",
       "      <td>0.859649</td>\n",
       "      <td>11.641689</td>\n",
       "      <td>0.056059</td>\n",
       "      <td>6.598874</td>\n",
       "      <td>0.984323</td>\n",
       "      <td>2</td>\n",
       "      <td>1</td>\n",
       "    </tr>\n",
       "    <tr>\n",
       "      <th>22813</th>\n",
       "      <td>(numpy)</td>\n",
       "      <td>(pandas)</td>\n",
       "      <td>0.073842</td>\n",
       "      <td>0.077597</td>\n",
       "      <td>0.063830</td>\n",
       "      <td>0.864407</td>\n",
       "      <td>11.139694</td>\n",
       "      <td>0.058100</td>\n",
       "      <td>6.802722</td>\n",
       "      <td>0.982803</td>\n",
       "      <td>1</td>\n",
       "      <td>1</td>\n",
       "    </tr>\n",
       "    <tr>\n",
       "      <th>22812</th>\n",
       "      <td>(pandas)</td>\n",
       "      <td>(numpy)</td>\n",
       "      <td>0.077597</td>\n",
       "      <td>0.073842</td>\n",
       "      <td>0.063830</td>\n",
       "      <td>0.822581</td>\n",
       "      <td>11.139694</td>\n",
       "      <td>0.058100</td>\n",
       "      <td>5.220162</td>\n",
       "      <td>0.986804</td>\n",
       "      <td>1</td>\n",
       "      <td>1</td>\n",
       "    </tr>\n",
       "    <tr>\n",
       "      <th>22823</th>\n",
       "      <td>(pandas)</td>\n",
       "      <td>(numpy, python)</td>\n",
       "      <td>0.077597</td>\n",
       "      <td>0.071339</td>\n",
       "      <td>0.061327</td>\n",
       "      <td>0.790323</td>\n",
       "      <td>11.078381</td>\n",
       "      <td>0.055791</td>\n",
       "      <td>4.428998</td>\n",
       "      <td>0.986265</td>\n",
       "      <td>1</td>\n",
       "      <td>2</td>\n",
       "    </tr>\n",
       "    <tr>\n",
       "      <th>...</th>\n",
       "      <td>...</td>\n",
       "      <td>...</td>\n",
       "      <td>...</td>\n",
       "      <td>...</td>\n",
       "      <td>...</td>\n",
       "      <td>...</td>\n",
       "      <td>...</td>\n",
       "      <td>...</td>\n",
       "      <td>...</td>\n",
       "      <td>...</td>\n",
       "      <td>...</td>\n",
       "      <td>...</td>\n",
       "    </tr>\n",
       "    <tr>\n",
       "      <th>22215</th>\n",
       "      <td>(python)</td>\n",
       "      <td>(project management)</td>\n",
       "      <td>0.829787</td>\n",
       "      <td>0.098874</td>\n",
       "      <td>0.078849</td>\n",
       "      <td>0.095023</td>\n",
       "      <td>0.961052</td>\n",
       "      <td>-0.003195</td>\n",
       "      <td>0.995745</td>\n",
       "      <td>-0.192308</td>\n",
       "      <td>1</td>\n",
       "      <td>1</td>\n",
       "    </tr>\n",
       "    <tr>\n",
       "      <th>14992</th>\n",
       "      <td>(python)</td>\n",
       "      <td>(mathematics, computer science)</td>\n",
       "      <td>0.829787</td>\n",
       "      <td>0.111389</td>\n",
       "      <td>0.087610</td>\n",
       "      <td>0.105581</td>\n",
       "      <td>0.947854</td>\n",
       "      <td>-0.004820</td>\n",
       "      <td>0.993506</td>\n",
       "      <td>-0.244265</td>\n",
       "      <td>1</td>\n",
       "      <td>2</td>\n",
       "    </tr>\n",
       "    <tr>\n",
       "      <th>22130</th>\n",
       "      <td>(python)</td>\n",
       "      <td>(leadership, machine learning)</td>\n",
       "      <td>0.829787</td>\n",
       "      <td>0.070088</td>\n",
       "      <td>0.055069</td>\n",
       "      <td>0.066365</td>\n",
       "      <td>0.946886</td>\n",
       "      <td>-0.003089</td>\n",
       "      <td>0.996013</td>\n",
       "      <td>-0.247863</td>\n",
       "      <td>1</td>\n",
       "      <td>2</td>\n",
       "    </tr>\n",
       "    <tr>\n",
       "      <th>16302</th>\n",
       "      <td>(python)</td>\n",
       "      <td>(operations research)</td>\n",
       "      <td>0.829787</td>\n",
       "      <td>0.071339</td>\n",
       "      <td>0.052566</td>\n",
       "      <td>0.063348</td>\n",
       "      <td>0.887989</td>\n",
       "      <td>-0.006631</td>\n",
       "      <td>0.991469</td>\n",
       "      <td>-0.425641</td>\n",
       "      <td>1</td>\n",
       "      <td>1</td>\n",
       "    </tr>\n",
       "    <tr>\n",
       "      <th>22115</th>\n",
       "      <td>(python)</td>\n",
       "      <td>(leadership)</td>\n",
       "      <td>0.829787</td>\n",
       "      <td>0.083855</td>\n",
       "      <td>0.061327</td>\n",
       "      <td>0.073906</td>\n",
       "      <td>0.881362</td>\n",
       "      <td>-0.008255</td>\n",
       "      <td>0.989258</td>\n",
       "      <td>-0.441595</td>\n",
       "      <td>1</td>\n",
       "      <td>1</td>\n",
       "    </tr>\n",
       "  </tbody>\n",
       "</table>\n",
       "<p>919 rows × 12 columns</p>\n",
       "</div>"
      ],
      "text/plain": [
       "            antecedents                      consequents  antecedent support  \\\n",
       "22824           (numpy)                 (pandas, python)            0.073842   \n",
       "22821  (pandas, python)                          (numpy)            0.071339   \n",
       "22813           (numpy)                         (pandas)            0.073842   \n",
       "22812          (pandas)                          (numpy)            0.077597   \n",
       "22823          (pandas)                  (numpy, python)            0.077597   \n",
       "...                 ...                              ...                 ...   \n",
       "22215          (python)             (project management)            0.829787   \n",
       "14992          (python)  (mathematics, computer science)            0.829787   \n",
       "22130          (python)   (leadership, machine learning)            0.829787   \n",
       "16302          (python)            (operations research)            0.829787   \n",
       "22115          (python)                     (leadership)            0.829787   \n",
       "\n",
       "       consequent support   support  confidence       lift  leverage  \\\n",
       "22824            0.071339  0.061327    0.830508  11.641689  0.056059   \n",
       "22821            0.073842  0.061327    0.859649  11.641689  0.056059   \n",
       "22813            0.077597  0.063830    0.864407  11.139694  0.058100   \n",
       "22812            0.073842  0.063830    0.822581  11.139694  0.058100   \n",
       "22823            0.071339  0.061327    0.790323  11.078381  0.055791   \n",
       "...                   ...       ...         ...        ...       ...   \n",
       "22215            0.098874  0.078849    0.095023   0.961052 -0.003195   \n",
       "14992            0.111389  0.087610    0.105581   0.947854 -0.004820   \n",
       "22130            0.070088  0.055069    0.066365   0.946886 -0.003089   \n",
       "16302            0.071339  0.052566    0.063348   0.887989 -0.006631   \n",
       "22115            0.083855  0.061327    0.073906   0.881362 -0.008255   \n",
       "\n",
       "       conviction  zhangs_metric  a_cnt  c_cnt  \n",
       "22824    5.479099       0.986983      1      2  \n",
       "22821    6.598874       0.984323      2      1  \n",
       "22813    6.802722       0.982803      1      1  \n",
       "22812    5.220162       0.986804      1      1  \n",
       "22823    4.428998       0.986265      1      2  \n",
       "...           ...            ...    ...    ...  \n",
       "22215    0.995745      -0.192308      1      1  \n",
       "14992    0.993506      -0.244265      1      2  \n",
       "22130    0.996013      -0.247863      1      2  \n",
       "16302    0.991469      -0.425641      1      1  \n",
       "22115    0.989258      -0.441595      1      1  \n",
       "\n",
       "[919 rows x 12 columns]"
      ]
     },
     "metadata": {},
     "output_type": "display_data"
    },
    {
     "name": "stdout",
     "output_type": "stream",
     "text": [
      "Skillset: {'pandas', 'statistics', 'numpy', 'tensorflow', 'python', 'data science', 'scikitlearn', 'machine learning', 'spark'}\n",
      "Hirability: 13.2442%\n",
      "Jobs available: 106/799\n",
      "Applying in all 799 data scientist jobs, you are likely to get into 106\n",
      "\n"
     ]
    },
    {
     "data": {
      "text/markdown": [
       "### Validation"
      ],
      "text/plain": [
       "<IPython.core.display.Markdown object>"
      ]
     },
     "metadata": {},
     "output_type": "display_data"
    },
    {
     "data": {
      "text/markdown": [
       "Result:\n",
       "- 4.006 % Hirability (base)\n",
       "- 4.0813 % Hirability (stochastic)\n",
       "- 13.2442 % Hirability (fim)\n",
       "\n",
       "Hirability increase better in fim case compared to stochastic case!\n"
      ],
      "text/plain": [
       "<IPython.core.display.Markdown object>"
      ]
     },
     "metadata": {},
     "output_type": "display_data"
    }
   ],
   "source": [
    "base_skills = {'python', 'pandas', 'numpy'}\n",
    "test_fim(\n",
    "    merged_df=merged_df,\n",
    "    job_tit=\"data scientist\", \n",
    "    supp=0.05,\n",
    "    base_skills=base_skills,\n",
    "    no_skills_to_add=6,\n",
    ")"
   ]
  },
  {
   "cell_type": "markdown",
   "id": "48c0f4a8-0ba5-457a-ae70-dbd9c74dafd2",
   "metadata": {},
   "source": [
    "## Case 2 - Data Engineer to Tech Lead"
   ]
  },
  {
   "cell_type": "code",
   "execution_count": 11,
   "id": "cb5682cb-8557-4456-8e5b-22ca3125747f",
   "metadata": {
    "execution": {
     "iopub.execute_input": "2024-03-07T15:12:00.923098Z",
     "iopub.status.busy": "2024-03-07T15:12:00.923098Z",
     "iopub.status.idle": "2024-03-07T15:12:01.075113Z",
     "shell.execute_reply": "2024-03-07T15:12:01.075113Z",
     "shell.execute_reply.started": "2024-03-07T15:12:00.923098Z"
    }
   },
   "outputs": [
    {
     "name": "stdout",
     "output_type": "stream",
     "text": [
      "Wanting to transition to tech/data lead...\n",
      "Size of DB: 164\n"
     ]
    },
    {
     "data": {
      "text/markdown": [
       "TECH/DATA LEAD frequent itemset:"
      ],
      "text/plain": [
       "<IPython.core.display.Markdown object>"
      ]
     },
     "metadata": {},
     "output_type": "display_data"
    },
    {
     "data": {
      "text/html": [
       "<div>\n",
       "<style scoped>\n",
       "    .dataframe tbody tr th:only-of-type {\n",
       "        vertical-align: middle;\n",
       "    }\n",
       "\n",
       "    .dataframe tbody tr th {\n",
       "        vertical-align: top;\n",
       "    }\n",
       "\n",
       "    .dataframe thead th {\n",
       "        text-align: right;\n",
       "    }\n",
       "</style>\n",
       "<table border=\"1\" class=\"dataframe\">\n",
       "  <thead>\n",
       "    <tr style=\"text-align: right;\">\n",
       "      <th></th>\n",
       "      <th>support</th>\n",
       "      <th>itemsets</th>\n",
       "    </tr>\n",
       "  </thead>\n",
       "  <tbody>\n",
       "    <tr>\n",
       "      <th>0</th>\n",
       "      <td>0.170732</td>\n",
       "      <td>(communication skills)</td>\n",
       "    </tr>\n",
       "    <tr>\n",
       "      <th>1</th>\n",
       "      <td>0.237805</td>\n",
       "      <td>(python)</td>\n",
       "    </tr>\n",
       "    <tr>\n",
       "      <th>2</th>\n",
       "      <td>0.182927</td>\n",
       "      <td>(communication)</td>\n",
       "    </tr>\n",
       "    <tr>\n",
       "      <th>3</th>\n",
       "      <td>0.128049</td>\n",
       "      <td>(data integration)</td>\n",
       "    </tr>\n",
       "    <tr>\n",
       "      <th>4</th>\n",
       "      <td>0.115854</td>\n",
       "      <td>(analytical skills)</td>\n",
       "    </tr>\n",
       "    <tr>\n",
       "      <th>...</th>\n",
       "      <td>...</td>\n",
       "      <td>...</td>\n",
       "    </tr>\n",
       "    <tr>\n",
       "      <th>86</th>\n",
       "      <td>0.067073</td>\n",
       "      <td>(project management, leadership)</td>\n",
       "    </tr>\n",
       "    <tr>\n",
       "      <th>87</th>\n",
       "      <td>0.060976</td>\n",
       "      <td>(problem solving, leadership)</td>\n",
       "    </tr>\n",
       "    <tr>\n",
       "      <th>88</th>\n",
       "      <td>0.054878</td>\n",
       "      <td>(data integration, data modeling)</td>\n",
       "    </tr>\n",
       "    <tr>\n",
       "      <th>89</th>\n",
       "      <td>0.060976</td>\n",
       "      <td>(project management, problem solving)</td>\n",
       "    </tr>\n",
       "    <tr>\n",
       "      <th>90</th>\n",
       "      <td>0.054878</td>\n",
       "      <td>(problem solving, data analysis)</td>\n",
       "    </tr>\n",
       "  </tbody>\n",
       "</table>\n",
       "<p>91 rows × 2 columns</p>\n",
       "</div>"
      ],
      "text/plain": [
       "     support                               itemsets\n",
       "0   0.170732                 (communication skills)\n",
       "1   0.237805                               (python)\n",
       "2   0.182927                        (communication)\n",
       "3   0.128049                     (data integration)\n",
       "4   0.115854                    (analytical skills)\n",
       "..       ...                                    ...\n",
       "86  0.067073       (project management, leadership)\n",
       "87  0.060976          (problem solving, leadership)\n",
       "88  0.054878      (data integration, data modeling)\n",
       "89  0.060976  (project management, problem solving)\n",
       "90  0.054878       (problem solving, data analysis)\n",
       "\n",
       "[91 rows x 2 columns]"
      ]
     },
     "metadata": {},
     "output_type": "display_data"
    },
    {
     "data": {
      "text/markdown": [
       "Search frequent itemset if base skill in it:"
      ],
      "text/plain": [
       "<IPython.core.display.Markdown object>"
      ]
     },
     "metadata": {},
     "output_type": "display_data"
    },
    {
     "data": {
      "text/html": [
       "<div>\n",
       "<style scoped>\n",
       "    .dataframe tbody tr th:only-of-type {\n",
       "        vertical-align: middle;\n",
       "    }\n",
       "\n",
       "    .dataframe tbody tr th {\n",
       "        vertical-align: top;\n",
       "    }\n",
       "\n",
       "    .dataframe thead th {\n",
       "        text-align: right;\n",
       "    }\n",
       "</style>\n",
       "<table border=\"1\" class=\"dataframe\">\n",
       "  <thead>\n",
       "    <tr style=\"text-align: right;\">\n",
       "      <th></th>\n",
       "      <th>support</th>\n",
       "      <th>itemsets</th>\n",
       "    </tr>\n",
       "  </thead>\n",
       "  <tbody>\n",
       "    <tr>\n",
       "      <th>1</th>\n",
       "      <td>0.237805</td>\n",
       "      <td>(python)</td>\n",
       "    </tr>\n",
       "    <tr>\n",
       "      <th>7</th>\n",
       "      <td>0.243902</td>\n",
       "      <td>(sql)</td>\n",
       "    </tr>\n",
       "    <tr>\n",
       "      <th>15</th>\n",
       "      <td>0.060976</td>\n",
       "      <td>(spark)</td>\n",
       "    </tr>\n",
       "    <tr>\n",
       "      <th>51</th>\n",
       "      <td>0.158537</td>\n",
       "      <td>(python, sql)</td>\n",
       "    </tr>\n",
       "  </tbody>\n",
       "</table>\n",
       "</div>"
      ],
      "text/plain": [
       "     support       itemsets\n",
       "1   0.237805       (python)\n",
       "7   0.243902          (sql)\n",
       "15  0.060976        (spark)\n",
       "51  0.158537  (python, sql)"
      ]
     },
     "metadata": {},
     "output_type": "display_data"
    },
    {
     "data": {
      "text/markdown": [
       "Comparing Hirability for:\n",
       "- base `{'hadoop', 'python', 'sql', 'spark'}`\n",
       "- `{'hadoop', 'python', 'sql', 'spark'}` plus 6 random sampled skills without replacement\n",
       "- `{'hadoop', 'python', 'sql', 'spark'}` plus 6 unique skills recommended by fim with highest lift\n"
      ],
      "text/plain": [
       "<IPython.core.display.Markdown object>"
      ]
     },
     "metadata": {},
     "output_type": "display_data"
    },
    {
     "data": {
      "text/markdown": [
       "### Base Case"
      ],
      "text/plain": [
       "<IPython.core.display.Markdown object>"
      ]
     },
     "metadata": {},
     "output_type": "display_data"
    },
    {
     "name": "stdout",
     "output_type": "stream",
     "text": [
      "Skillset: {'hadoop', 'python', 'sql', 'spark'}\n",
      "Hirability: 2.4556%\n",
      "Jobs available: 4/164\n",
      "Applying in all 164 tech/data lead jobs, you are likely to get into 4\n",
      "\n"
     ]
    },
    {
     "data": {
      "text/markdown": [
       "### Stochastic Case"
      ],
      "text/plain": [
       "<IPython.core.display.Markdown object>"
      ]
     },
     "metadata": {},
     "output_type": "display_data"
    },
    {
     "data": {
      "text/markdown": [
       "Get hirability when 6 random skills are added to base case, have 100 iterations and get the average"
      ],
      "text/plain": [
       "<IPython.core.display.Markdown object>"
      ]
     },
     "metadata": {},
     "output_type": "display_data"
    },
    {
     "name": "stdout",
     "output_type": "stream",
     "text": [
      "Skillset: {'hadoop', 'python', 'sql', 'spark'} plus 6 random skills, 100 iterations then get average\n",
      "Hirability: 2.6661%\n",
      "Jobs available: 4/164\n",
      "Applying in all 164 tech/data lead jobs, you are likely to get into 4\n",
      "\n"
     ]
    },
    {
     "data": {
      "text/markdown": [
       "### FIM Case"
      ],
      "text/plain": [
       "<IPython.core.display.Markdown object>"
      ]
     },
     "metadata": {},
     "output_type": "display_data"
    },
    {
     "data": {
      "text/markdown": [
       "From the association rules above get top 6 skills consequents with highest lift and add to skills"
      ],
      "text/plain": [
       "<IPython.core.display.Markdown object>"
      ]
     },
     "metadata": {},
     "output_type": "display_data"
    },
    {
     "data": {
      "text/html": [
       "<div>\n",
       "<style scoped>\n",
       "    .dataframe tbody tr th:only-of-type {\n",
       "        vertical-align: middle;\n",
       "    }\n",
       "\n",
       "    .dataframe tbody tr th {\n",
       "        vertical-align: top;\n",
       "    }\n",
       "\n",
       "    .dataframe thead th {\n",
       "        text-align: right;\n",
       "    }\n",
       "</style>\n",
       "<table border=\"1\" class=\"dataframe\">\n",
       "  <thead>\n",
       "    <tr style=\"text-align: right;\">\n",
       "      <th></th>\n",
       "      <th>antecedents</th>\n",
       "      <th>consequents</th>\n",
       "      <th>antecedent support</th>\n",
       "      <th>consequent support</th>\n",
       "      <th>support</th>\n",
       "      <th>confidence</th>\n",
       "      <th>lift</th>\n",
       "      <th>leverage</th>\n",
       "      <th>conviction</th>\n",
       "      <th>zhangs_metric</th>\n",
       "      <th>a_cnt</th>\n",
       "      <th>c_cnt</th>\n",
       "    </tr>\n",
       "  </thead>\n",
       "  <tbody>\n",
       "    <tr>\n",
       "      <th>28</th>\n",
       "      <td>(python)</td>\n",
       "      <td>(data mining)</td>\n",
       "      <td>0.237805</td>\n",
       "      <td>0.067073</td>\n",
       "      <td>0.054878</td>\n",
       "      <td>0.230769</td>\n",
       "      <td>3.440559</td>\n",
       "      <td>0.038928</td>\n",
       "      <td>1.212805</td>\n",
       "      <td>0.930667</td>\n",
       "      <td>1</td>\n",
       "      <td>1</td>\n",
       "    </tr>\n",
       "    <tr>\n",
       "      <th>58</th>\n",
       "      <td>(python)</td>\n",
       "      <td>(databricks)</td>\n",
       "      <td>0.237805</td>\n",
       "      <td>0.103659</td>\n",
       "      <td>0.073171</td>\n",
       "      <td>0.307692</td>\n",
       "      <td>2.968326</td>\n",
       "      <td>0.048520</td>\n",
       "      <td>1.294715</td>\n",
       "      <td>0.870000</td>\n",
       "      <td>1</td>\n",
       "      <td>1</td>\n",
       "    </tr>\n",
       "    <tr>\n",
       "      <th>2</th>\n",
       "      <td>(python)</td>\n",
       "      <td>(sql)</td>\n",
       "      <td>0.237805</td>\n",
       "      <td>0.243902</td>\n",
       "      <td>0.158537</td>\n",
       "      <td>0.666667</td>\n",
       "      <td>2.733333</td>\n",
       "      <td>0.100535</td>\n",
       "      <td>2.268293</td>\n",
       "      <td>0.832000</td>\n",
       "      <td>1</td>\n",
       "      <td>1</td>\n",
       "    </tr>\n",
       "    <tr>\n",
       "      <th>3</th>\n",
       "      <td>(sql)</td>\n",
       "      <td>(python)</td>\n",
       "      <td>0.243902</td>\n",
       "      <td>0.237805</td>\n",
       "      <td>0.158537</td>\n",
       "      <td>0.650000</td>\n",
       "      <td>2.733333</td>\n",
       "      <td>0.100535</td>\n",
       "      <td>2.177700</td>\n",
       "      <td>0.838710</td>\n",
       "      <td>1</td>\n",
       "      <td>1</td>\n",
       "    </tr>\n",
       "    <tr>\n",
       "      <th>18</th>\n",
       "      <td>(python)</td>\n",
       "      <td>(machine learning)</td>\n",
       "      <td>0.237805</td>\n",
       "      <td>0.115854</td>\n",
       "      <td>0.073171</td>\n",
       "      <td>0.307692</td>\n",
       "      <td>2.655870</td>\n",
       "      <td>0.045620</td>\n",
       "      <td>1.277100</td>\n",
       "      <td>0.818000</td>\n",
       "      <td>1</td>\n",
       "      <td>1</td>\n",
       "    </tr>\n",
       "    <tr>\n",
       "      <th>22</th>\n",
       "      <td>(python)</td>\n",
       "      <td>(data warehousing)</td>\n",
       "      <td>0.237805</td>\n",
       "      <td>0.103659</td>\n",
       "      <td>0.054878</td>\n",
       "      <td>0.230769</td>\n",
       "      <td>2.226244</td>\n",
       "      <td>0.030228</td>\n",
       "      <td>1.165244</td>\n",
       "      <td>0.722667</td>\n",
       "      <td>1</td>\n",
       "      <td>1</td>\n",
       "    </tr>\n",
       "    <tr>\n",
       "      <th>24</th>\n",
       "      <td>(sql)</td>\n",
       "      <td>(data warehousing)</td>\n",
       "      <td>0.243902</td>\n",
       "      <td>0.103659</td>\n",
       "      <td>0.054878</td>\n",
       "      <td>0.225000</td>\n",
       "      <td>2.170588</td>\n",
       "      <td>0.029595</td>\n",
       "      <td>1.156570</td>\n",
       "      <td>0.713262</td>\n",
       "      <td>1</td>\n",
       "      <td>1</td>\n",
       "    </tr>\n",
       "    <tr>\n",
       "      <th>60</th>\n",
       "      <td>(sql)</td>\n",
       "      <td>(databricks)</td>\n",
       "      <td>0.243902</td>\n",
       "      <td>0.103659</td>\n",
       "      <td>0.054878</td>\n",
       "      <td>0.225000</td>\n",
       "      <td>2.170588</td>\n",
       "      <td>0.029595</td>\n",
       "      <td>1.156570</td>\n",
       "      <td>0.713262</td>\n",
       "      <td>1</td>\n",
       "      <td>1</td>\n",
       "    </tr>\n",
       "    <tr>\n",
       "      <th>20</th>\n",
       "      <td>(sql)</td>\n",
       "      <td>(machine learning)</td>\n",
       "      <td>0.243902</td>\n",
       "      <td>0.115854</td>\n",
       "      <td>0.060976</td>\n",
       "      <td>0.250000</td>\n",
       "      <td>2.157895</td>\n",
       "      <td>0.032719</td>\n",
       "      <td>1.178862</td>\n",
       "      <td>0.709677</td>\n",
       "      <td>1</td>\n",
       "      <td>1</td>\n",
       "    </tr>\n",
       "    <tr>\n",
       "      <th>68</th>\n",
       "      <td>(python)</td>\n",
       "      <td>(data architecture)</td>\n",
       "      <td>0.237805</td>\n",
       "      <td>0.134146</td>\n",
       "      <td>0.054878</td>\n",
       "      <td>0.230769</td>\n",
       "      <td>1.720280</td>\n",
       "      <td>0.022977</td>\n",
       "      <td>1.125610</td>\n",
       "      <td>0.549333</td>\n",
       "      <td>1</td>\n",
       "      <td>1</td>\n",
       "    </tr>\n",
       "    <tr>\n",
       "      <th>38</th>\n",
       "      <td>(sql)</td>\n",
       "      <td>(data analytics)</td>\n",
       "      <td>0.243902</td>\n",
       "      <td>0.176829</td>\n",
       "      <td>0.067073</td>\n",
       "      <td>0.275000</td>\n",
       "      <td>1.555172</td>\n",
       "      <td>0.023944</td>\n",
       "      <td>1.135408</td>\n",
       "      <td>0.472141</td>\n",
       "      <td>1</td>\n",
       "      <td>1</td>\n",
       "    </tr>\n",
       "    <tr>\n",
       "      <th>1</th>\n",
       "      <td>(sql)</td>\n",
       "      <td>(communication skills)</td>\n",
       "      <td>0.243902</td>\n",
       "      <td>0.170732</td>\n",
       "      <td>0.060976</td>\n",
       "      <td>0.250000</td>\n",
       "      <td>1.464286</td>\n",
       "      <td>0.019334</td>\n",
       "      <td>1.105691</td>\n",
       "      <td>0.419355</td>\n",
       "      <td>1</td>\n",
       "      <td>1</td>\n",
       "    </tr>\n",
       "  </tbody>\n",
       "</table>\n",
       "</div>"
      ],
      "text/plain": [
       "   antecedents             consequents  antecedent support  \\\n",
       "28    (python)           (data mining)            0.237805   \n",
       "58    (python)            (databricks)            0.237805   \n",
       "2     (python)                   (sql)            0.237805   \n",
       "3        (sql)                (python)            0.243902   \n",
       "18    (python)      (machine learning)            0.237805   \n",
       "22    (python)      (data warehousing)            0.237805   \n",
       "24       (sql)      (data warehousing)            0.243902   \n",
       "60       (sql)            (databricks)            0.243902   \n",
       "20       (sql)      (machine learning)            0.243902   \n",
       "68    (python)     (data architecture)            0.237805   \n",
       "38       (sql)        (data analytics)            0.243902   \n",
       "1        (sql)  (communication skills)            0.243902   \n",
       "\n",
       "    consequent support   support  confidence      lift  leverage  conviction  \\\n",
       "28            0.067073  0.054878    0.230769  3.440559  0.038928    1.212805   \n",
       "58            0.103659  0.073171    0.307692  2.968326  0.048520    1.294715   \n",
       "2             0.243902  0.158537    0.666667  2.733333  0.100535    2.268293   \n",
       "3             0.237805  0.158537    0.650000  2.733333  0.100535    2.177700   \n",
       "18            0.115854  0.073171    0.307692  2.655870  0.045620    1.277100   \n",
       "22            0.103659  0.054878    0.230769  2.226244  0.030228    1.165244   \n",
       "24            0.103659  0.054878    0.225000  2.170588  0.029595    1.156570   \n",
       "60            0.103659  0.054878    0.225000  2.170588  0.029595    1.156570   \n",
       "20            0.115854  0.060976    0.250000  2.157895  0.032719    1.178862   \n",
       "68            0.134146  0.054878    0.230769  1.720280  0.022977    1.125610   \n",
       "38            0.176829  0.067073    0.275000  1.555172  0.023944    1.135408   \n",
       "1             0.170732  0.060976    0.250000  1.464286  0.019334    1.105691   \n",
       "\n",
       "    zhangs_metric  a_cnt  c_cnt  \n",
       "28       0.930667      1      1  \n",
       "58       0.870000      1      1  \n",
       "2        0.832000      1      1  \n",
       "3        0.838710      1      1  \n",
       "18       0.818000      1      1  \n",
       "22       0.722667      1      1  \n",
       "24       0.713262      1      1  \n",
       "60       0.713262      1      1  \n",
       "20       0.709677      1      1  \n",
       "68       0.549333      1      1  \n",
       "38       0.472141      1      1  \n",
       "1        0.419355      1      1  "
      ]
     },
     "metadata": {},
     "output_type": "display_data"
    },
    {
     "name": "stdout",
     "output_type": "stream",
     "text": [
      "Skillset: {'databricks', 'sql', 'data analytics', 'python', 'data architecture', 'data warehousing', 'data mining', 'hadoop', 'machine learning', 'spark'}\n",
      "Hirability: 5.0865%\n",
      "Jobs available: 8/164\n",
      "Applying in all 164 tech/data lead jobs, you are likely to get into 8\n",
      "\n"
     ]
    },
    {
     "data": {
      "text/markdown": [
       "### Validation"
      ],
      "text/plain": [
       "<IPython.core.display.Markdown object>"
      ]
     },
     "metadata": {},
     "output_type": "display_data"
    },
    {
     "data": {
      "text/markdown": [
       "Result:\n",
       "- 2.4556 % Hirability (base)\n",
       "- 2.6661 % Hirability (stochastic)\n",
       "- 5.0865 % Hirability (fim)\n",
       "\n",
       "Hirability increase better in fim case compared to stochastic case!\n"
      ],
      "text/plain": [
       "<IPython.core.display.Markdown object>"
      ]
     },
     "metadata": {},
     "output_type": "display_data"
    }
   ],
   "source": [
    "base_skills = {'python', 'spark', 'hadoop', 'sql'}\n",
    "test_fim(\n",
    "    merged_df=merged_df,\n",
    "    job_tit=\"tech/data lead\", \n",
    "    supp=0.05,\n",
    "    base_skills=base_skills,\n",
    "    no_skills_to_add=6,\n",
    ")"
   ]
  },
  {
   "cell_type": "markdown",
   "id": "cfd542af-3e07-462a-940b-97bc558864d1",
   "metadata": {},
   "source": [
    "# Conclusion"
   ]
  },
  {
   "cell_type": "markdown",
   "id": "b43100ff-7102-406d-8460-162d24459519",
   "metadata": {},
   "source": [
    "# Recommendation"
   ]
  },
  {
   "cell_type": "markdown",
   "id": "3fa2884c-da9d-4ba7-989a-dbf4dc8f9b6a",
   "metadata": {},
   "source": [
    "# References"
   ]
  },
  {
   "cell_type": "code",
   "execution_count": null,
   "id": "747a3640-b1c2-467c-bb6e-caed82eb11eb",
   "metadata": {},
   "outputs": [],
   "source": []
  },
  {
   "cell_type": "code",
   "execution_count": null,
   "id": "6251ba3e-1273-46da-a5a2-b5b26277a549",
   "metadata": {},
   "outputs": [],
   "source": []
  }
 ],
 "metadata": {
  "kernelspec": {
   "display_name": "Python 3 (ipykernel)",
   "language": "python",
   "name": "python3"
  },
  "language_info": {
   "codemirror_mode": {
    "name": "ipython",
    "version": 3
   },
   "file_extension": ".py",
   "mimetype": "text/x-python",
   "name": "python",
   "nbconvert_exporter": "python",
   "pygments_lexer": "ipython3",
   "version": "3.9.13"
  }
 },
 "nbformat": 4,
 "nbformat_minor": 5
}
