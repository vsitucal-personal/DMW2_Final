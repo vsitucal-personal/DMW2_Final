{
 "cells": [
  {
   "cell_type": "code",
   "execution_count": 1,
   "id": "0ed6a785-a725-4f07-90e9-22e129c21270",
   "metadata": {
    "execution": {
     "iopub.execute_input": "2024-03-07T12:54:15.030600Z",
     "iopub.status.busy": "2024-03-07T12:54:15.030600Z",
     "iopub.status.idle": "2024-03-07T12:54:16.183718Z",
     "shell.execute_reply": "2024-03-07T12:54:16.182717Z",
     "shell.execute_reply.started": "2024-03-07T12:54:15.030600Z"
    }
   },
   "outputs": [],
   "source": [
    "import re\n",
    "import ipywidgets as widgets\n",
    "import pandas as pd\n",
    "import warnings\n",
    "import random\n",
    "from mlxtend.preprocessing import TransactionEncoder\n",
    "from mlxtend.frequent_patterns import apriori, fpmax, fpgrowth, association_rules\n",
    "from IPython.display import display, Markdown\n",
    "from utility import check_job_title, clean_skills, init_jobs"
   ]
  },
  {
   "cell_type": "code",
   "execution_count": 2,
   "id": "25a9e5f6-a7ec-44d8-b0f4-511500fd01db",
   "metadata": {
    "execution": {
     "iopub.execute_input": "2024-03-07T12:54:16.184714Z",
     "iopub.status.busy": "2024-03-07T12:54:16.184714Z",
     "iopub.status.idle": "2024-03-07T12:54:16.199689Z",
     "shell.execute_reply": "2024-03-07T12:54:16.198689Z",
     "shell.execute_reply.started": "2024-03-07T12:54:16.184714Z"
    }
   },
   "outputs": [],
   "source": [
    "warnings.filterwarnings(\"ignore\")"
   ]
  },
  {
   "cell_type": "markdown",
   "id": "f4749e73-c298-4b97-8892-4363ec6e60d1",
   "metadata": {},
   "source": [
    "# Introduction"
   ]
  },
  {
   "cell_type": "markdown",
   "id": "72200eda-9bae-41a5-9292-dd80108d736a",
   "metadata": {
    "execution": {
     "iopub.execute_input": "2024-03-07T12:53:14.976450Z",
     "iopub.status.busy": "2024-03-07T12:53:14.976450Z",
     "iopub.status.idle": "2024-03-07T12:53:14.984479Z",
     "shell.execute_reply": "2024-03-07T12:53:14.983483Z",
     "shell.execute_reply.started": "2024-03-07T12:53:14.976450Z"
    }
   },
   "source": [
    "job mismatch dilemma intro"
   ]
  },
  {
   "cell_type": "markdown",
   "id": "f6ade370-6324-4fc8-96f4-3c2530b24414",
   "metadata": {},
   "source": [
    "# Statement of the Problem"
   ]
  },
  {
   "cell_type": "markdown",
   "id": "c43a35dd-d1d4-4ceb-a2e3-40d5457084f0",
   "metadata": {},
   "source": [
    "jobs skill mismatch yadda yadda\n",
    "\n",
    "utilize fim to recommend skills that will increase hirability for applicants and allow employers to select candidates with high hirability to rank them."
   ]
  },
  {
   "cell_type": "markdown",
   "id": "d6230202-2d64-4c46-8703-accce0ac5e4c",
   "metadata": {},
   "source": [
    "The job skill mismatch dilemma presents a significant challenge, causing inefficiencies in hiring processes. To mitigate this, a streamlined solution is needed to recommend skills for enhancing applicant hirability and enabling employers to efficiently select and rank candidates with the help of frequent itemset mining (fim) association rules."
   ]
  },
  {
   "cell_type": "markdown",
   "id": "0381deb5-5f0b-4dd6-99fe-cad8f55f64f0",
   "metadata": {},
   "source": [
    "# METHODOLOGY"
   ]
  },
  {
   "cell_type": "markdown",
   "id": "e7feb385-f648-42db-94df-375e95fe6987",
   "metadata": {},
   "source": [
    "Merge all 3 `LinkedIn` csv's into one dataframe:"
   ]
  },
  {
   "cell_type": "code",
   "execution_count": 3,
   "id": "87549b6f-2af0-4610-91d5-a28da7f28447",
   "metadata": {
    "execution": {
     "iopub.execute_input": "2024-03-07T12:54:16.201688Z",
     "iopub.status.busy": "2024-03-07T12:54:16.200689Z",
     "iopub.status.idle": "2024-03-07T12:54:17.231365Z",
     "shell.execute_reply": "2024-03-07T12:54:17.230857Z",
     "shell.execute_reply.started": "2024-03-07T12:54:16.200689Z"
    }
   },
   "outputs": [
    {
     "data": {
      "text/plain": [
       "12217"
      ]
     },
     "metadata": {},
     "output_type": "display_data"
    }
   ],
   "source": [
    "merged_df = init_jobs()"
   ]
  },
  {
   "cell_type": "code",
   "execution_count": 4,
   "id": "b79a3490-da16-451e-a050-81124887069d",
   "metadata": {
    "execution": {
     "iopub.execute_input": "2024-03-07T12:54:17.233383Z",
     "iopub.status.busy": "2024-03-07T12:54:17.233383Z",
     "iopub.status.idle": "2024-03-07T12:54:17.247065Z",
     "shell.execute_reply": "2024-03-07T12:54:17.246068Z",
     "shell.execute_reply.started": "2024-03-07T12:54:17.233383Z"
    }
   },
   "outputs": [],
   "source": [
    "# merged_df.head(2)"
   ]
  },
  {
   "cell_type": "markdown",
   "id": "2f71e81c-0580-4391-b3df-3969496f2e53",
   "metadata": {
    "execution": {
     "iopub.execute_input": "2024-03-07T08:44:00.015776Z",
     "iopub.status.busy": "2024-03-07T08:44:00.014766Z",
     "iopub.status.idle": "2024-03-07T08:44:00.034814Z",
     "shell.execute_reply": "2024-03-07T08:44:00.033813Z",
     "shell.execute_reply.started": "2024-03-07T08:44:00.015776Z"
    }
   },
   "source": [
    "Bin job titles into these job titles:\n",
    "- data engineer \n",
    "- data scientist \n",
    "- data analyst \n",
    "- business analyst \n",
    "- database engineer \n",
    "- database administrator \n",
    "- data architect \n",
    "- machine learning/mlops engineer \n",
    "- software engineer \n",
    "- tech lead "
   ]
  },
  {
   "cell_type": "code",
   "execution_count": 5,
   "id": "9f24b056-8166-4b2b-aec6-dc5c7fef27db",
   "metadata": {
    "execution": {
     "iopub.execute_input": "2024-03-07T12:54:17.249284Z",
     "iopub.status.busy": "2024-03-07T12:54:17.249284Z",
     "iopub.status.idle": "2024-03-07T12:54:17.777737Z",
     "shell.execute_reply": "2024-03-07T12:54:17.776219Z",
     "shell.execute_reply.started": "2024-03-07T12:54:17.249284Z"
    },
    "jupyter": {
     "source_hidden": true
    }
   },
   "outputs": [
    {
     "data": {
      "text/plain": [
       "job_title_new\n",
       "others                       2900\n",
       "data engineer                2607\n",
       "data analyst                 2315\n",
       "manager                      1251\n",
       "machine learning engineer     833\n",
       "data scientist                799\n",
       "data architect                565\n",
       "database administrator        355\n",
       "c-suite                       186\n",
       "software engineer             182\n",
       "tech/data lead                164\n",
       "business analyst               60\n",
       "Name: count, dtype: int64"
      ]
     },
     "execution_count": 5,
     "metadata": {},
     "output_type": "execute_result"
    }
   ],
   "source": [
    "merged_df['job_title_new'] = merged_df['job_title'].apply(check_job_title)\n",
    "merged_df['job_title_new'].value_counts()"
   ]
  },
  {
   "cell_type": "markdown",
   "id": "7e1a869c-ab95-4d43-93e1-356851798742",
   "metadata": {},
   "source": [
    "create new column `job_skills_` list of skills for the job"
   ]
  },
  {
   "cell_type": "code",
   "execution_count": 6,
   "id": "f7e94734-bff1-40f3-ad1c-f2a3529f4f2f",
   "metadata": {
    "execution": {
     "iopub.execute_input": "2024-03-07T12:54:17.781263Z",
     "iopub.status.busy": "2024-03-07T12:54:17.781263Z",
     "iopub.status.idle": "2024-03-07T12:54:17.884848Z",
     "shell.execute_reply": "2024-03-07T12:54:17.884848Z",
     "shell.execute_reply.started": "2024-03-07T12:54:17.781263Z"
    }
   },
   "outputs": [],
   "source": [
    "merged_df['job_skills_'] = merged_df['job_skills'].apply(clean_skills)"
   ]
  },
  {
   "cell_type": "code",
   "execution_count": 7,
   "id": "315beeee-ef2f-428a-afd3-b17844b73856",
   "metadata": {
    "execution": {
     "iopub.execute_input": "2024-03-07T12:54:17.887360Z",
     "iopub.status.busy": "2024-03-07T12:54:17.886353Z",
     "iopub.status.idle": "2024-03-07T12:54:17.901404Z",
     "shell.execute_reply": "2024-03-07T12:54:17.900401Z",
     "shell.execute_reply.started": "2024-03-07T12:54:17.887360Z"
    },
    "jupyter": {
     "source_hidden": true
    }
   },
   "outputs": [],
   "source": [
    "def find_ante_nonstrict(rules, find_ante, filter_by):\n",
    "    try:\n",
    "        if find_ante != \"\":\n",
    "            search_antre = set(find_ante.split(\", \"))\n",
    "            disp_ = rules[rules['antecedents'].apply(lambda rules: rules <= search_antre)]\n",
    "            if filter_by != \"\":\n",
    "                filter_ = set(filter_by.split(\", \"))\n",
    "                disp_ = disp_.sort_values(by=list(filter_), ascending=False)\n",
    "            display(disp_)\n",
    "        else:\n",
    "            print(\"\")\n",
    "    except Exception as e:\n",
    "        print(\"\")\n",
    "\n",
    "def find_ante_strict(rules, find_ante, filter_by):\n",
    "    try:\n",
    "        if find_ante != \"\":\n",
    "            search_antre = set(find_ante.split(\", \"))\n",
    "            disp_ = rules[rules['antecedents'].apply(lambda rules: rules == search_antre)]\n",
    "            if filter_by != \"\":\n",
    "                filter_ = set(filter_by.split(\", \"))\n",
    "                disp_ = disp_.sort_values(by=list(filter_), ascending=False)\n",
    "            display(disp_)\n",
    "        else:\n",
    "            print(\"\")\n",
    "    except Exception as e:\n",
    "        print(\"\")"
   ]
  },
  {
   "cell_type": "code",
   "execution_count": 8,
   "id": "6d7c48ad-1609-494c-8e87-4054fa8c4c02",
   "metadata": {
    "execution": {
     "iopub.execute_input": "2024-03-07T12:54:17.903402Z",
     "iopub.status.busy": "2024-03-07T12:54:17.902403Z",
     "iopub.status.idle": "2024-03-07T12:54:17.931600Z",
     "shell.execute_reply": "2024-03-07T12:54:17.930592Z",
     "shell.execute_reply.started": "2024-03-07T12:54:17.903402Z"
    },
    "jupyter": {
     "source_hidden": true
    }
   },
   "outputs": [],
   "source": [
    "def skill_fim(merged_df, job_tit, support, find_fis):\n",
    "    print(f\"Wanting to transition to {job_tit}...\")\n",
    "    dataset = merged_df[merged_df['job_title_new'] == job_tit]['job_skills_'].to_list()\n",
    "    print(f\"Size of DB: {len(dataset)}\")\n",
    "    te = TransactionEncoder()\n",
    "    te_ary = te.fit(dataset).transform(dataset)\n",
    "    df = pd.DataFrame(te_ary, columns=te.columns_)\n",
    "    frequent_itemsets = fpgrowth(df, min_support=support, use_colnames=True)\n",
    "    print(f\"Finish getting {len(frequent_itemsets)} itemsets...top 10 below\")\n",
    "    display(frequent_itemsets.head(10))\n",
    "    \n",
    "    if find_fis != \"\":\n",
    "        search_fis = set(find_fis.split(\", \"))\n",
    "        found_fis = frequent_itemsets[frequent_itemsets['itemsets'] <= search_fis]\n",
    "        print(\"Found skill in frequent itemset!...\")\n",
    "        display(found_fis)\n",
    "    \n",
    "    rules = association_rules(frequent_itemsets, metric=\"lift\")\n",
    "    print(f\"Finish getting {len(rules)} rules...\")\n",
    "    \n",
    "    rules = rules[rules['antecedents'].isin(frequent_itemsets['itemsets'].to_list())]\n",
    "    rules['a_cnt'] = rules['antecedents'].apply(len)\n",
    "    rules['c_cnt'] = rules['consequents'].apply(len)\n",
    "    rules = rules.sort_values(by=['c_cnt', 'lift', 'support'], ascending=False)\n",
    "\n",
    "    style = {'description_width': 'initial'}\n",
    "    filter_by = widgets.Text(\n",
    "        value='',\n",
    "        description='filter_by:',\n",
    "        disabled=False,\n",
    "        style=style\n",
    "    ) \n",
    "    find_ante1 = widgets.Text(\n",
    "        value='',\n",
    "        description='Find antecedents non-strict:',\n",
    "        disabled=False,\n",
    "        style=style\n",
    "    )\n",
    "    find_ante2 = widgets.Text(\n",
    "        value='',\n",
    "        description='Find antecedents strict:',\n",
    "        disabled=False,\n",
    "        style=style\n",
    "    )\n",
    "    widgets.interact(\n",
    "        find_ante_nonstrict,\n",
    "        rules=widgets.fixed(rules),\n",
    "        find_ante=find_ante1,\n",
    "        filter_by=filter_by,\n",
    "    );\n",
    "    widgets.interact(\n",
    "        find_ante_strict,\n",
    "        rules=widgets.fixed(rules),\n",
    "        find_ante=find_ante2,\n",
    "        filter_by=filter_by,\n",
    "    );\n",
    "\n",
    "\n",
    "jobs = [i for i in list(merged_df['job_title_new'].unique()) if i not in  ('others')]\n",
    "job_tit = widgets.Dropdown(\n",
    "    options=jobs,\n",
    "    value='data scientist',\n",
    "    description='Job Title:',\n",
    "    disabled=False,\n",
    ")\n",
    "supp = widgets.FloatText(\n",
    "    value=0.1,\n",
    "    description='Support:',\n",
    "    disabled=False\n",
    ")\n",
    "find_fis = widgets.Text(\n",
    "    value='',\n",
    "    description='Find skill:',\n",
    "    disabled=False\n",
    ")"
   ]
  },
  {
   "cell_type": "markdown",
   "id": "adccb3b8-a4bc-45f9-a8ce-e4b83f5ea1fc",
   "metadata": {},
   "source": [
    "## Interactive Widget to get frequent item set and association rules"
   ]
  },
  {
   "cell_type": "code",
   "execution_count": 9,
   "id": "964bcda7-a6a3-4f8a-a9c0-cc181c1adf0a",
   "metadata": {
    "execution": {
     "iopub.execute_input": "2024-03-07T12:54:17.933600Z",
     "iopub.status.busy": "2024-03-07T12:54:17.932601Z",
     "iopub.status.idle": "2024-03-07T12:54:18.102856Z",
     "shell.execute_reply": "2024-03-07T12:54:18.101863Z",
     "shell.execute_reply.started": "2024-03-07T12:54:17.933600Z"
    }
   },
   "outputs": [
    {
     "data": {
      "application/vnd.jupyter.widget-view+json": {
       "model_id": "c439f843d016491989718b4dae72b947",
       "version_major": 2,
       "version_minor": 0
      },
      "text/plain": [
       "interactive(children=(Dropdown(description='Job Title:', index=7, options=('machine learning engineer', 'softw…"
      ]
     },
     "metadata": {},
     "output_type": "display_data"
    }
   ],
   "source": [
    "pd.set_option('display.max_colwidth', 200)\n",
    "result = ()\n",
    "widgets.interact(\n",
    "    skill_fim,\n",
    "    merged_df=widgets.fixed(merged_df),\n",
    "    job_tit=job_tit,\n",
    "    support=supp,\n",
    "    find_fis=find_fis,\n",
    ");"
   ]
  },
  {
   "cell_type": "code",
   "execution_count": 10,
   "id": "0bf819eb-69ea-43ff-bb24-b7914ae2769b",
   "metadata": {
    "execution": {
     "iopub.execute_input": "2024-03-07T12:54:18.104860Z",
     "iopub.status.busy": "2024-03-07T12:54:18.103856Z",
     "iopub.status.idle": "2024-03-07T12:54:18.118904Z",
     "shell.execute_reply": "2024-03-07T12:54:18.117996Z",
     "shell.execute_reply.started": "2024-03-07T12:54:18.104860Z"
    }
   },
   "outputs": [],
   "source": [
    "def get_skills_probability(job_database, skills_to_match):\n",
    "    job_database['acceptance_prob'] = job_database['job_skills_'].apply(lambda x: len(skills_to_match.intersection(x))/len(x))\n",
    "    prob = round((job_database['acceptance_prob'].sum() / len(job_database)) * 100, 4)\n",
    "    return prob"
   ]
  },
  {
   "cell_type": "markdown",
   "id": "d08fab7a-ed14-48c7-a15d-b7065fc7f73e",
   "metadata": {},
   "source": [
    "$$\\text{Probability to get job} = \\frac{\\text{number of skills matched}}{\\text{skills required by job}}$$\n",
    "\n",
    "$$\\text{Hirability} = \\text{Probability of getting any jobs in the current DB} = \\frac{\\sum_{i=1}^{n}\\text{Probability to get job}_i}{\\text{total transactions in DB (n)}}$$\n",
    "We'll quote the above metric as `Hirability` based on what skills you have"
   ]
  },
  {
   "cell_type": "markdown",
   "id": "3657371a-2cf5-46bd-8f77-7eb63d97c7ed",
   "metadata": {
    "execution": {
     "iopub.execute_input": "2024-03-07T09:08:22.117965Z",
     "iopub.status.busy": "2024-03-07T09:08:22.117965Z",
     "iopub.status.idle": "2024-03-07T09:08:22.129098Z",
     "shell.execute_reply": "2024-03-07T09:08:22.128046Z",
     "shell.execute_reply.started": "2024-03-07T09:08:22.117965Z"
    }
   },
   "source": [
    "## Case 1 - Fresh Grad with basic python and numpy knowledge, wants to be Data scientist"
   ]
  },
  {
   "cell_type": "code",
   "execution_count": 11,
   "id": "a054f2d2-71c6-48fa-827e-a4745e83ab24",
   "metadata": {
    "execution": {
     "iopub.execute_input": "2024-03-07T12:54:18.122905Z",
     "iopub.status.busy": "2024-03-07T12:54:18.121908Z",
     "iopub.status.idle": "2024-03-07T12:54:18.135447Z",
     "shell.execute_reply": "2024-03-07T12:54:18.134444Z",
     "shell.execute_reply.started": "2024-03-07T12:54:18.122905Z"
    }
   },
   "outputs": [],
   "source": [
    "job_database = merged_df[merged_df['job_title_new'] == 'data scientist']"
   ]
  },
  {
   "attachments": {
    "c7503ec6-3c21-4c51-a24e-51e8afeddd58.png": {
     "image/png": "[encoded data removed]"
    }
   },
   "cell_type": "markdown",
   "id": "671e6792-0339-4f17-88e3-24f004981609",
   "metadata": {},
   "source": [
    "![case1.png](attachment:c7503ec6-3c21-4c51-a24e-51e8afeddd58.png)"
   ]
  },
  {
   "cell_type": "markdown",
   "id": "65b345d9-48aa-409a-8179-2a822c70d8ab",
   "metadata": {},
   "source": [
    "Support = 0.05"
   ]
  },
  {
   "cell_type": "markdown",
   "id": "b17ced49-3389-4646-a13a-7844f1a205f4",
   "metadata": {},
   "source": [
    "Comparing Hirability for:\n",
    "- base `python, pandas`\n",
    "- `python, pandas` plus 3 random skills\n",
    "- `python, pandas` plus 3 skills recommended by fim with highest lift"
   ]
  },
  {
   "cell_type": "code",
   "execution_count": 12,
   "id": "b3398b96-bc89-44ec-a936-140ed00969fb",
   "metadata": {
    "execution": {
     "iopub.execute_input": "2024-03-07T12:54:18.137953Z",
     "iopub.status.busy": "2024-03-07T12:54:18.137953Z",
     "iopub.status.idle": "2024-03-07T12:54:18.151503Z",
     "shell.execute_reply": "2024-03-07T12:54:18.149580Z",
     "shell.execute_reply.started": "2024-03-07T12:54:18.137953Z"
    }
   },
   "outputs": [],
   "source": [
    "base_skills = {'python', 'pandas'}"
   ]
  },
  {
   "cell_type": "code",
   "execution_count": 13,
   "id": "d77bd381-1cb4-41fe-bd02-fc0731ab83de",
   "metadata": {
    "execution": {
     "iopub.execute_input": "2024-03-07T12:54:18.153503Z",
     "iopub.status.busy": "2024-03-07T12:54:18.152508Z",
     "iopub.status.idle": "2024-03-07T12:54:18.166553Z",
     "shell.execute_reply": "2024-03-07T12:54:18.165552Z",
     "shell.execute_reply.started": "2024-03-07T12:54:18.153503Z"
    }
   },
   "outputs": [
    {
     "data": {
      "text/plain": [
       "799"
      ]
     },
     "execution_count": 13,
     "metadata": {},
     "output_type": "execute_result"
    }
   ],
   "source": [
    "len(job_database)"
   ]
  },
  {
   "cell_type": "markdown",
   "id": "483ce92b-ac27-488f-aff9-39aa1dd89b47",
   "metadata": {},
   "source": [
    "### Base Case"
   ]
  },
  {
   "cell_type": "code",
   "execution_count": 14,
   "id": "59ff2f65-e919-4452-99de-45ca6e51105e",
   "metadata": {
    "execution": {
     "iopub.execute_input": "2024-03-07T12:54:18.169073Z",
     "iopub.status.busy": "2024-03-07T12:54:18.168061Z",
     "iopub.status.idle": "2024-03-07T12:54:18.183202Z",
     "shell.execute_reply": "2024-03-07T12:54:18.181678Z",
     "shell.execute_reply.started": "2024-03-07T12:54:18.168061Z"
    }
   },
   "outputs": [
    {
     "name": "stdout",
     "output_type": "stream",
     "text": [
      "{'pandas', 'python'}\n",
      "Hirability: 3.7287%\n",
      "Jobs available: 30\n"
     ]
    }
   ],
   "source": [
    "x = get_skills_probability(job_database, base_skills)\n",
    "print(f\"{base_skills}\\nHirability: {x}%\\nJobs available: {round((x*len(job_database))/100)}\")"
   ]
  },
  {
   "cell_type": "markdown",
   "id": "2ef1731a-06e0-42fe-b573-549e1cd6e761",
   "metadata": {},
   "source": [
    "### Stochastic Case"
   ]
  },
  {
   "cell_type": "markdown",
   "id": "aa25737f-4191-486a-90ce-a82d91589e5d",
   "metadata": {},
   "source": [
    "Get hirability when `x` random skills are added to base case, have 100 iterations and get the average"
   ]
  },
  {
   "cell_type": "code",
   "execution_count": 15,
   "id": "c6141fd0-4967-47ec-9320-ea19996f599b",
   "metadata": {
    "execution": {
     "iopub.execute_input": "2024-03-07T12:54:18.186213Z",
     "iopub.status.busy": "2024-03-07T12:54:18.186213Z",
     "iopub.status.idle": "2024-03-07T12:54:18.555852Z",
     "shell.execute_reply": "2024-03-07T12:54:18.555346Z",
     "shell.execute_reply.started": "2024-03-07T12:54:18.186213Z"
    }
   },
   "outputs": [
    {
     "name": "stdout",
     "output_type": "stream",
     "text": [
      "\n",
      "{'pandas', 'python'} plus 3 random skills, 100 iterations get average\n",
      "Hirability: 3.7972%\n",
      "Jobs available: 30\n"
     ]
    }
   ],
   "source": [
    "prob_list = []\n",
    "for i in range(100):\n",
    "    choice = set([item for sublist in job_database['job_skills_'].tolist() for item in sublist])\n",
    "    random_skill = random.sample(list(choice), 3)\n",
    "    skills_to_match = base_skills.union(random_skill)\n",
    "    prob_list.append(get_skills_probability(job_database, skills_to_match))\n",
    "average = sum(prob_list) / len(prob_list)\n",
    "\n",
    "print(f\"\"\"\n",
    "{base_skills} plus 3 random skills, 100 iterations get average\\nHirability: {round(average, 4)}%\\nJobs available: {round((round(average, 4)*len(job_database))/100)}\"\"\")"
   ]
  },
  {
   "cell_type": "markdown",
   "id": "223af135-65cd-4e51-be40-ac0f7a93de9d",
   "metadata": {},
   "source": [
    "### FIM Case"
   ]
  },
  {
   "cell_type": "markdown",
   "id": "1c25833e-d694-421d-abcc-778d4c63fc09",
   "metadata": {},
   "source": [
    "From the association rules above get top x skills consequents with highest lift and add to skills"
   ]
  },
  {
   "cell_type": "code",
   "execution_count": 16,
   "id": "760328b6-0c20-4800-a496-e7da5ca992b9",
   "metadata": {
    "execution": {
     "iopub.execute_input": "2024-03-07T12:54:18.557860Z",
     "iopub.status.busy": "2024-03-07T12:54:18.557860Z",
     "iopub.status.idle": "2024-03-07T12:54:18.572429Z",
     "shell.execute_reply": "2024-03-07T12:54:18.570426Z",
     "shell.execute_reply.started": "2024-03-07T12:54:18.557860Z"
    }
   },
   "outputs": [
    {
     "name": "stdout",
     "output_type": "stream",
     "text": [
      "{'pandas', 'python'}\n",
      "Hirability: 4.6838%\n",
      "Jobs available: 37\n"
     ]
    }
   ],
   "source": [
    "fim_skills = base_skills.union({'numpy', 'scikit-learn', 'tensorflow'})\n",
    "x = get_skills_probability(job_database, fim_skills)\n",
    "print(f\"{base_skills}\\nHirability: {x}%\\nJobs available: {round((x*len(job_database))/100)}\")"
   ]
  },
  {
   "cell_type": "markdown",
   "id": "9d1476cf-bda3-44fc-b6d2-f9edca4f4104",
   "metadata": {},
   "source": [
    "### Validation check if better"
   ]
  },
  {
   "cell_type": "markdown",
   "id": "dc707862-1078-45f1-8f75-be9c2777de47",
   "metadata": {},
   "source": [
    "Result:\n",
    "- 3.7287% (base)\n",
    "- 3.7624% (random skill in all skills)\n",
    "- 4.6838% (fim recommended with high lift)\n",
    "\n",
    "Hirability increase better in fim case compared to stochastic case!"
   ]
  },
  {
   "cell_type": "markdown",
   "id": "a5009f66-af8a-484f-903e-725ff6ee5850",
   "metadata": {},
   "source": [
    "## Case 2 - Data Engineer to Tech Lead"
   ]
  },
  {
   "attachments": {
    "426838bb-e5de-46d9-98c3-19b703f9d3b1.png": {
     "image/png": "[encoded data removed]"
    }
   },
   "cell_type": "markdown",
   "id": "80e9145f-2004-4ea7-802c-1c901eff9bd9",
   "metadata": {},
   "source": [
    "![case2.png](attachment:426838bb-e5de-46d9-98c3-19b703f9d3b1.png)"
   ]
  },
  {
   "cell_type": "markdown",
   "id": "087725e1-ab75-483d-8e11-365d1cf2ade0",
   "metadata": {},
   "source": [
    "For case 2 for example a data engineer with python, spark and hadoop experience wants to be a Tech Lead\n",
    "Hadoop is not found in Tech Lead's frequent itemset meaning hadoop skill has insignificant bearing on Tech Lead Role and will not produce association rule."
   ]
  },
  {
   "cell_type": "code",
   "execution_count": 17,
   "id": "eb87659a-da95-425a-b300-ab532cd9fcb8",
   "metadata": {
    "execution": {
     "iopub.execute_input": "2024-03-07T12:54:18.575428Z",
     "iopub.status.busy": "2024-03-07T12:54:18.574426Z",
     "iopub.status.idle": "2024-03-07T12:54:18.587377Z",
     "shell.execute_reply": "2024-03-07T12:54:18.585868Z",
     "shell.execute_reply.started": "2024-03-07T12:54:18.575428Z"
    }
   },
   "outputs": [],
   "source": [
    "job_database = merged_df[merged_df['job_title_new'] == 'tech/data lead']"
   ]
  },
  {
   "cell_type": "code",
   "execution_count": 18,
   "id": "37bb9b9e-13b1-4531-a781-8780da605c79",
   "metadata": {
    "execution": {
     "iopub.execute_input": "2024-03-07T12:54:18.590918Z",
     "iopub.status.busy": "2024-03-07T12:54:18.589903Z",
     "iopub.status.idle": "2024-03-07T12:54:18.602575Z",
     "shell.execute_reply": "2024-03-07T12:54:18.600576Z",
     "shell.execute_reply.started": "2024-03-07T12:54:18.590918Z"
    }
   },
   "outputs": [],
   "source": [
    "base_skills = {'python', 'spark', 'hadoop'}"
   ]
  },
  {
   "cell_type": "markdown",
   "id": "3aa74bba-cc92-4797-84b8-2b0b362c7f57",
   "metadata": {},
   "source": [
    "### Base Case"
   ]
  },
  {
   "cell_type": "code",
   "execution_count": 19,
   "id": "46884ebb-7b08-4638-99d5-4bac397934b6",
   "metadata": {
    "execution": {
     "iopub.execute_input": "2024-03-07T12:54:18.604573Z",
     "iopub.status.busy": "2024-03-07T12:54:18.604573Z",
     "iopub.status.idle": "2024-03-07T12:54:18.618092Z",
     "shell.execute_reply": "2024-03-07T12:54:18.616093Z",
     "shell.execute_reply.started": "2024-03-07T12:54:18.604573Z"
    }
   },
   "outputs": [
    {
     "name": "stdout",
     "output_type": "stream",
     "text": [
      "{'spark', 'python', 'hadoop'}\n",
      "Hirability: 1.3671%\n"
     ]
    }
   ],
   "source": [
    "print(f\"{base_skills}\\nHirability: {get_skills_probability(job_database, base_skills)}%\")"
   ]
  },
  {
   "cell_type": "markdown",
   "id": "7fe27b87-c045-432d-b3e3-881fe577f4e0",
   "metadata": {},
   "source": [
    "### Stochastic Case"
   ]
  },
  {
   "cell_type": "code",
   "execution_count": 20,
   "id": "3b78d10c-45cc-4e6d-9212-15f8bb04048c",
   "metadata": {
    "execution": {
     "iopub.execute_input": "2024-03-07T12:54:18.620626Z",
     "iopub.status.busy": "2024-03-07T12:54:18.619603Z",
     "iopub.status.idle": "2024-03-07T12:54:18.741912Z",
     "shell.execute_reply": "2024-03-07T12:54:18.740911Z",
     "shell.execute_reply.started": "2024-03-07T12:54:18.620626Z"
    }
   },
   "outputs": [
    {
     "name": "stdout",
     "output_type": "stream",
     "text": [
      "{'spark', 'python', 'hadoop'} plus 3 random skills, 100 iterations get average\n",
      "Hirability: 1.4729%\n"
     ]
    }
   ],
   "source": [
    "prob_list = []\n",
    "for i in range(100):\n",
    "    choice = set([item for sublist in job_database['job_skills_'].tolist() for item in sublist])\n",
    "    random_skill = random.sample(list(choice), 3)\n",
    "    skills_to_match = base_skills.union(random_skill)\n",
    "    prob_list.append(get_skills_probability(job_database, skills_to_match))\n",
    "average = sum(prob_list) / len(prob_list)\n",
    "\n",
    "print(f\"{base_skills} plus 3 random skills, 100 iterations get average\\nHirability: {round(average, 4)}%\")"
   ]
  },
  {
   "cell_type": "markdown",
   "id": "d7e25f32-f251-488d-a25d-428655beaa8d",
   "metadata": {},
   "source": [
    "### FIM Case"
   ]
  },
  {
   "cell_type": "code",
   "execution_count": 21,
   "id": "98e5e631-1c5f-4b99-9d4b-ef86ab8573e0",
   "metadata": {
    "execution": {
     "iopub.execute_input": "2024-03-07T12:54:18.748438Z",
     "iopub.status.busy": "2024-03-07T12:54:18.744911Z",
     "iopub.status.idle": "2024-03-07T12:54:18.773646Z",
     "shell.execute_reply": "2024-03-07T12:54:18.771644Z",
     "shell.execute_reply.started": "2024-03-07T12:54:18.748438Z"
    }
   },
   "outputs": [
    {
     "name": "stdout",
     "output_type": "stream",
     "text": [
      "{'hadoop', 'machine learning', 'python', 'spark', 'databricks', 'data mining'}\n",
      "Hirability: 2.4184%\n"
     ]
    }
   ],
   "source": [
    "fim_skills = base_skills.union({'data mining', 'databricks', 'machine learning'})\n",
    "print(f\"{fim_skills}\\nHirability: {get_skills_probability(job_database, fim_skills)}%\")"
   ]
  },
  {
   "cell_type": "markdown",
   "id": "ce88d53e-6e9c-4ffd-9e1d-f33d1c58a318",
   "metadata": {},
   "source": [
    "### Validation check if better"
   ]
  },
  {
   "cell_type": "markdown",
   "id": "edff9aa5-03b0-42c6-8529-1dc7b9c46c4b",
   "metadata": {},
   "source": [
    "Result:\n",
    "- 1.2099% (base)\n",
    "- 1.3184% (random skill in all skills)\n",
    "- 2.2611% (fim recommended with high lift)\n",
    "\n",
    "Hirability increase better in fim case compared to stochastic case!"
   ]
  },
  {
   "cell_type": "code",
   "execution_count": null,
   "id": "bc240c3f-2dc0-4298-a148-42e11151c69d",
   "metadata": {},
   "outputs": [],
   "source": []
  }
 ],
 "metadata": {
  "kernelspec": {
   "display_name": "Python 3 (ipykernel)",
   "language": "python",
   "name": "python3"
  },
  "language_info": {
   "codemirror_mode": {
    "name": "ipython",
    "version": 3
   },
   "file_extension": ".py",
   "mimetype": "text/x-python",
   "name": "python",
   "nbconvert_exporter": "python",
   "pygments_lexer": "ipython3",
   "version": "3.9.13"
  }
 },
 "nbformat": 4,
 "nbformat_minor": 5
}
